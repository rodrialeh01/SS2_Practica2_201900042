{
 "cells": [
  {
   "cell_type": "markdown",
   "metadata": {},
   "source": [
    "# Práctica 2\n",
    "Seminario de Sistemas 2\n",
    "\n",
    "Sección A\n",
    "\n",
    "Nombre del Alumno: Rodrigo Alejandro Hernández de León\n",
    "\n",
    "Carné: 201900042"
   ]
  },
  {
   "cell_type": "markdown",
   "metadata": {},
   "source": [
    "## Parte 1\n",
    "### Extracción de datos\n",
    "Importamos pandas para poder trabajar con los datos y cargamos el archivo de datos `datos.csv` en un DataFrame de pandas."
   ]
  },
  {
   "cell_type": "code",
   "execution_count": 354,
   "metadata": {},
   "outputs": [
    {
     "data": {
      "text/html": [
       "<div>\n",
       "<style scoped>\n",
       "    .dataframe tbody tr th:only-of-type {\n",
       "        vertical-align: middle;\n",
       "    }\n",
       "\n",
       "    .dataframe tbody tr th {\n",
       "        vertical-align: top;\n",
       "    }\n",
       "\n",
       "    .dataframe thead th {\n",
       "        text-align: right;\n",
       "    }\n",
       "</style>\n",
       "<table border=\"1\" class=\"dataframe\">\n",
       "  <thead>\n",
       "    <tr style=\"text-align: right;\">\n",
       "      <th></th>\n",
       "      <th>Course Title</th>\n",
       "      <th>Rating</th>\n",
       "      <th>Level</th>\n",
       "      <th>Duration</th>\n",
       "      <th>Schedule</th>\n",
       "      <th>Review</th>\n",
       "      <th>What you will learn</th>\n",
       "      <th>Skill gain</th>\n",
       "      <th>Modules</th>\n",
       "      <th>Instructor</th>\n",
       "      <th>Offered By</th>\n",
       "      <th>Keyword</th>\n",
       "      <th>Course Url</th>\n",
       "    </tr>\n",
       "  </thead>\n",
       "  <tbody>\n",
       "    <tr>\n",
       "      <th>0</th>\n",
       "      <td>Fashion as Design</td>\n",
       "      <td>4.8</td>\n",
       "      <td>Beginner level</td>\n",
       "      <td>20 hours (approximately)</td>\n",
       "      <td>Flexible schedule</td>\n",
       "      <td>2,813 reviews</td>\n",
       "      <td>NaN</td>\n",
       "      <td>['Art History', 'Art', 'History', 'Creativity']</td>\n",
       "      <td>['Introduction', 'Heroes', 'Silhouettes', 'Cou...</td>\n",
       "      <td>['Anna Burckhardt', 'Paola Antonelli', 'Michel...</td>\n",
       "      <td>['The Museum of Modern Art']</td>\n",
       "      <td>Arts and Humanities</td>\n",
       "      <td>https://www.coursera.org/learn/fashion-design</td>\n",
       "    </tr>\n",
       "    <tr>\n",
       "      <th>1</th>\n",
       "      <td>Modern American Poetry</td>\n",
       "      <td>4.4</td>\n",
       "      <td>Beginner level</td>\n",
       "      <td>Approx. 34 hours to complete</td>\n",
       "      <td>Flexible schedule</td>\n",
       "      <td>100 reviews</td>\n",
       "      <td>NaN</td>\n",
       "      <td>[]</td>\n",
       "      <td>['Orientation', 'Module 1', 'Module 2', 'Modul...</td>\n",
       "      <td>['Cary Nelson']</td>\n",
       "      <td>['University of Illinois at Urbana-Champaign']</td>\n",
       "      <td>Arts and Humanities</td>\n",
       "      <td>https://www.coursera.org/learn/modern-american...</td>\n",
       "    </tr>\n",
       "    <tr>\n",
       "      <th>2</th>\n",
       "      <td>Pixel Art for Video Games</td>\n",
       "      <td>4.5</td>\n",
       "      <td>Beginner level</td>\n",
       "      <td>9 hours (approximately)</td>\n",
       "      <td>Flexible schedule</td>\n",
       "      <td>227 reviews</td>\n",
       "      <td>NaN</td>\n",
       "      <td>[]</td>\n",
       "      <td>['Week 1: Introduction to Pixel Art', 'Week 2:...</td>\n",
       "      <td>['Andrew Dennis', 'Ricardo Guimaraes']</td>\n",
       "      <td>['Michigan State University']</td>\n",
       "      <td>Arts and Humanities</td>\n",
       "      <td>https://www.coursera.org/learn/pixel-art-video...</td>\n",
       "    </tr>\n",
       "    <tr>\n",
       "      <th>3</th>\n",
       "      <td>Distribución digital de la música independiente</td>\n",
       "      <td>NaN</td>\n",
       "      <td>Beginner level</td>\n",
       "      <td>Approx. 8 hours to complete</td>\n",
       "      <td>Flexible schedule</td>\n",
       "      <td>NaN</td>\n",
       "      <td>NaN</td>\n",
       "      <td>[]</td>\n",
       "      <td>['Semana 1', 'Semana 2', 'Semana 3', 'Semana 4']</td>\n",
       "      <td>['Eduardo de la Vara Brown.']</td>\n",
       "      <td>['SAE Institute México']</td>\n",
       "      <td>Arts and Humanities</td>\n",
       "      <td>https://www.coursera.org/learn/distribucion-di...</td>\n",
       "    </tr>\n",
       "    <tr>\n",
       "      <th>4</th>\n",
       "      <td>The Blues: Understanding and Performing an Ame...</td>\n",
       "      <td>4.8</td>\n",
       "      <td>Beginner level</td>\n",
       "      <td>Approx. 11 hours to complete</td>\n",
       "      <td>Flexible schedule</td>\n",
       "      <td>582 reviews</td>\n",
       "      <td>Students will be able to describe the blues as...</td>\n",
       "      <td>['Music', 'Chord', 'Jazz', 'Jazz Improvisation']</td>\n",
       "      <td>['Blues Progressions – Theory and Practice ', ...</td>\n",
       "      <td>['Dariusz Terefenko']</td>\n",
       "      <td>['University of Rochester']</td>\n",
       "      <td>Arts and Humanities</td>\n",
       "      <td>https://www.coursera.org/learn/the-blues</td>\n",
       "    </tr>\n",
       "    <tr>\n",
       "      <th>...</th>\n",
       "      <td>...</td>\n",
       "      <td>...</td>\n",
       "      <td>...</td>\n",
       "      <td>...</td>\n",
       "      <td>...</td>\n",
       "      <td>...</td>\n",
       "      <td>...</td>\n",
       "      <td>...</td>\n",
       "      <td>...</td>\n",
       "      <td>...</td>\n",
       "      <td>...</td>\n",
       "      <td>...</td>\n",
       "      <td>...</td>\n",
       "    </tr>\n",
       "    <tr>\n",
       "      <th>9590</th>\n",
       "      <td>Power Onboarding</td>\n",
       "      <td>4.1</td>\n",
       "      <td>Beginner level</td>\n",
       "      <td>Approx. 7 hours to complete</td>\n",
       "      <td>Flexible schedule</td>\n",
       "      <td>36 reviews</td>\n",
       "      <td>NaN</td>\n",
       "      <td>[]</td>\n",
       "      <td>['Week 1 - Get Ready', 'Session 2 - Get Set', ...</td>\n",
       "      <td>['William J. White']</td>\n",
       "      <td>['Northwestern University']</td>\n",
       "      <td>Social Sciences</td>\n",
       "      <td>https://www.coursera.org/learn/power-onboarding</td>\n",
       "    </tr>\n",
       "    <tr>\n",
       "      <th>9591</th>\n",
       "      <td>Implementing Parent Feedback with Google Forms</td>\n",
       "      <td>4.9</td>\n",
       "      <td>Beginner level</td>\n",
       "      <td>NaN</td>\n",
       "      <td>NaN</td>\n",
       "      <td>77 reviews</td>\n",
       "      <td>Creating engaging parent surveys using Google ...</td>\n",
       "      <td>['Education', 'online tools', 'engagement', 'e...</td>\n",
       "      <td>['Learn step-by-step']</td>\n",
       "      <td>['Rachel Lindsay']</td>\n",
       "      <td>['Coursera Project Network']</td>\n",
       "      <td>Social Sciences</td>\n",
       "      <td>https://www.coursera.org/projects/education-fe...</td>\n",
       "    </tr>\n",
       "    <tr>\n",
       "      <th>9592</th>\n",
       "      <td>\"Making\" Progress Teach-Out</td>\n",
       "      <td>4.2</td>\n",
       "      <td>Beginner level</td>\n",
       "      <td>Approx. 5 hours to complete</td>\n",
       "      <td>Flexible schedule</td>\n",
       "      <td>10 reviews</td>\n",
       "      <td>NaN</td>\n",
       "      <td>[]</td>\n",
       "      <td>['Week 1', 'WEEK 2']</td>\n",
       "      <td>['Pablo Palomino']</td>\n",
       "      <td>['Emory University']</td>\n",
       "      <td>Social Sciences</td>\n",
       "      <td>https://www.coursera.org/learn/makingprogress</td>\n",
       "    </tr>\n",
       "    <tr>\n",
       "      <th>9593</th>\n",
       "      <td>Use Microsoft PowerPoint to Create a Visual Sc...</td>\n",
       "      <td>4.5</td>\n",
       "      <td>Beginner level</td>\n",
       "      <td>1 hour</td>\n",
       "      <td>NaN</td>\n",
       "      <td>11 reviews</td>\n",
       "      <td>Learn about choice boards and their use within...</td>\n",
       "      <td>['Teaching tools', 'elementary teaching', 'eng...</td>\n",
       "      <td>['Learn step-by-step']</td>\n",
       "      <td>['Rachel Lindsay']</td>\n",
       "      <td>['Coursera Project Network']</td>\n",
       "      <td>Social Sciences</td>\n",
       "      <td>https://www.coursera.org/projects/use-microsof...</td>\n",
       "    </tr>\n",
       "    <tr>\n",
       "      <th>9594</th>\n",
       "      <td>Créer du contenu pour les réseaux sociaux avec...</td>\n",
       "      <td>NaN</td>\n",
       "      <td>Beginner level</td>\n",
       "      <td>NaN</td>\n",
       "      <td>NaN</td>\n",
       "      <td>NaN</td>\n",
       "      <td>Vous découvrirez les fonctionnalités de Prezi ...</td>\n",
       "      <td>['Social Media Marketing', 'Social Media', 'Co...</td>\n",
       "      <td>['Learn step-by-step']</td>\n",
       "      <td>['Sara Nefzaoui']</td>\n",
       "      <td>['Coursera Project Network']</td>\n",
       "      <td>Social Sciences</td>\n",
       "      <td>https://www.coursera.org/projects/creer-conten...</td>\n",
       "    </tr>\n",
       "  </tbody>\n",
       "</table>\n",
       "<p>9595 rows × 13 columns</p>\n",
       "</div>"
      ],
      "text/plain": [
       "                                           Course Title  Rating  \\\n",
       "0                                     Fashion as Design     4.8   \n",
       "1                                Modern American Poetry     4.4   \n",
       "2                             Pixel Art for Video Games     4.5   \n",
       "3       Distribución digital de la música independiente     NaN   \n",
       "4     The Blues: Understanding and Performing an Ame...     4.8   \n",
       "...                                                 ...     ...   \n",
       "9590                                   Power Onboarding     4.1   \n",
       "9591     Implementing Parent Feedback with Google Forms     4.9   \n",
       "9592                        \"Making\" Progress Teach-Out     4.2   \n",
       "9593  Use Microsoft PowerPoint to Create a Visual Sc...     4.5   \n",
       "9594  Créer du contenu pour les réseaux sociaux avec...     NaN   \n",
       "\n",
       "               Level                      Duration           Schedule  \\\n",
       "0     Beginner level      20 hours (approximately)  Flexible schedule   \n",
       "1     Beginner level  Approx. 34 hours to complete  Flexible schedule   \n",
       "2     Beginner level       9 hours (approximately)  Flexible schedule   \n",
       "3     Beginner level   Approx. 8 hours to complete  Flexible schedule   \n",
       "4     Beginner level  Approx. 11 hours to complete  Flexible schedule   \n",
       "...              ...                           ...                ...   \n",
       "9590  Beginner level   Approx. 7 hours to complete  Flexible schedule   \n",
       "9591  Beginner level                           NaN                NaN   \n",
       "9592  Beginner level   Approx. 5 hours to complete  Flexible schedule   \n",
       "9593  Beginner level                        1 hour                NaN   \n",
       "9594  Beginner level                           NaN                NaN   \n",
       "\n",
       "             Review                                What you will learn  \\\n",
       "0     2,813 reviews                                                NaN   \n",
       "1       100 reviews                                                NaN   \n",
       "2       227 reviews                                                NaN   \n",
       "3               NaN                                                NaN   \n",
       "4       582 reviews  Students will be able to describe the blues as...   \n",
       "...             ...                                                ...   \n",
       "9590     36 reviews                                                NaN   \n",
       "9591     77 reviews  Creating engaging parent surveys using Google ...   \n",
       "9592     10 reviews                                                NaN   \n",
       "9593     11 reviews  Learn about choice boards and their use within...   \n",
       "9594            NaN  Vous découvrirez les fonctionnalités de Prezi ...   \n",
       "\n",
       "                                             Skill gain  \\\n",
       "0       ['Art History', 'Art', 'History', 'Creativity']   \n",
       "1                                                    []   \n",
       "2                                                    []   \n",
       "3                                                    []   \n",
       "4      ['Music', 'Chord', 'Jazz', 'Jazz Improvisation']   \n",
       "...                                                 ...   \n",
       "9590                                                 []   \n",
       "9591  ['Education', 'online tools', 'engagement', 'e...   \n",
       "9592                                                 []   \n",
       "9593  ['Teaching tools', 'elementary teaching', 'eng...   \n",
       "9594  ['Social Media Marketing', 'Social Media', 'Co...   \n",
       "\n",
       "                                                Modules  \\\n",
       "0     ['Introduction', 'Heroes', 'Silhouettes', 'Cou...   \n",
       "1     ['Orientation', 'Module 1', 'Module 2', 'Modul...   \n",
       "2     ['Week 1: Introduction to Pixel Art', 'Week 2:...   \n",
       "3      ['Semana 1', 'Semana 2', 'Semana 3', 'Semana 4']   \n",
       "4     ['Blues Progressions – Theory and Practice ', ...   \n",
       "...                                                 ...   \n",
       "9590  ['Week 1 - Get Ready', 'Session 2 - Get Set', ...   \n",
       "9591                             ['Learn step-by-step']   \n",
       "9592                               ['Week 1', 'WEEK 2']   \n",
       "9593                             ['Learn step-by-step']   \n",
       "9594                             ['Learn step-by-step']   \n",
       "\n",
       "                                             Instructor  \\\n",
       "0     ['Anna Burckhardt', 'Paola Antonelli', 'Michel...   \n",
       "1                                       ['Cary Nelson']   \n",
       "2                ['Andrew Dennis', 'Ricardo Guimaraes']   \n",
       "3                         ['Eduardo de la Vara Brown.']   \n",
       "4                                 ['Dariusz Terefenko']   \n",
       "...                                                 ...   \n",
       "9590                               ['William J. White']   \n",
       "9591                                 ['Rachel Lindsay']   \n",
       "9592                                 ['Pablo Palomino']   \n",
       "9593                                 ['Rachel Lindsay']   \n",
       "9594                                  ['Sara Nefzaoui']   \n",
       "\n",
       "                                          Offered By              Keyword  \\\n",
       "0                       ['The Museum of Modern Art']  Arts and Humanities   \n",
       "1     ['University of Illinois at Urbana-Champaign']  Arts and Humanities   \n",
       "2                      ['Michigan State University']  Arts and Humanities   \n",
       "3                           ['SAE Institute México']  Arts and Humanities   \n",
       "4                        ['University of Rochester']  Arts and Humanities   \n",
       "...                                              ...                  ...   \n",
       "9590                     ['Northwestern University']      Social Sciences   \n",
       "9591                    ['Coursera Project Network']      Social Sciences   \n",
       "9592                            ['Emory University']      Social Sciences   \n",
       "9593                    ['Coursera Project Network']      Social Sciences   \n",
       "9594                    ['Coursera Project Network']      Social Sciences   \n",
       "\n",
       "                                             Course Url  \n",
       "0         https://www.coursera.org/learn/fashion-design  \n",
       "1     https://www.coursera.org/learn/modern-american...  \n",
       "2     https://www.coursera.org/learn/pixel-art-video...  \n",
       "3     https://www.coursera.org/learn/distribucion-di...  \n",
       "4              https://www.coursera.org/learn/the-blues  \n",
       "...                                                 ...  \n",
       "9590    https://www.coursera.org/learn/power-onboarding  \n",
       "9591  https://www.coursera.org/projects/education-fe...  \n",
       "9592      https://www.coursera.org/learn/makingprogress  \n",
       "9593  https://www.coursera.org/projects/use-microsof...  \n",
       "9594  https://www.coursera.org/projects/creer-conten...  \n",
       "\n",
       "[9595 rows x 13 columns]"
      ]
     },
     "execution_count": 354,
     "metadata": {},
     "output_type": "execute_result"
    }
   ],
   "source": [
    "import pandas as pd\n",
    "\n",
    "# Cargamos la data\n",
    "data = pd.read_csv('datos.csv')\n",
    "data"
   ]
  },
  {
   "cell_type": "markdown",
   "metadata": {},
   "source": [
    "## Parte 2\n",
    "### Limpieza de datos\n",
    "\n",
    "Se procede a limpiar los datos, cambiando los valores de las columnas para el análisis y asi tener un mejor manejo de los datos."
   ]
  },
  {
   "cell_type": "markdown",
   "metadata": {},
   "source": [
    "#### Limpieza data['Course']"
   ]
  },
  {
   "cell_type": "code",
   "execution_count": 355,
   "metadata": {},
   "outputs": [],
   "source": [
    "# El course title lo ponemos en mayusculas y eliminamos los espacios en blanco\n",
    "data['Course Title'] = data['Course Title'].str.upper()\n",
    "for d in data['Course Title']:\n",
    "    str(d).strip()\n"
   ]
  },
  {
   "cell_type": "markdown",
   "metadata": {},
   "source": [
    "#### Limpieza data['Rating']"
   ]
  },
  {
   "cell_type": "code",
   "execution_count": 356,
   "metadata": {},
   "outputs": [],
   "source": [
    "# Lo convertimos a numero\n",
    "data['Rating'] = pd.to_numeric(data['Rating'], errors='coerce', downcast='float')\n",
    "# El rating donde tenga vacios o nulos le ponemos 0\n",
    "data['Rating'] = data['Rating'].fillna(0)"
   ]
  },
  {
   "cell_type": "markdown",
   "metadata": {},
   "source": [
    "#### Limpieza data['Level']"
   ]
  },
  {
   "cell_type": "code",
   "execution_count": 357,
   "metadata": {},
   "outputs": [],
   "source": [
    "# La columna de Level ponemos en mayusculas y eliminamos los espacios en blanco\n",
    "data['Level'] = data['Level'].str.upper()\n",
    "for d in data['Level']:\n",
    "    str(d).strip()"
   ]
  },
  {
   "cell_type": "markdown",
   "metadata": {},
   "source": [
    "#### Limpieza data['Duration']"
   ]
  },
  {
   "cell_type": "code",
   "execution_count": 358,
   "metadata": {},
   "outputs": [],
   "source": [
    "# En la columna duración se extraera los numeros de horas por medio de una expresión regular\n",
    "import re\n",
    "# funcion para obtener la cantidad de horas\n",
    "def extraer_duracion_a_horas(cadena):\n",
    "    patron_numeros = r'\\d+'\n",
    "\n",
    "    numeros = re.findall(patron_numeros, cadena)\n",
    "\n",
    "    if len(numeros) == 1:\n",
    "        return int(numeros[0])  \n",
    "    elif len(numeros) == 2:\n",
    "        meses = int(numeros[0])\n",
    "        horas_semana = int(numeros[1])\n",
    "        semanas_mes = (365.25/7)/12\n",
    "        return int(meses * 4 * horas_semana)\n",
    "    else:\n",
    "        return 0\n",
    "\n",
    "#Los nulos seran 0\n",
    "data['Duration'] = data['Duration'].fillna(0)\n",
    "\n",
    "# Convertimos la columna 'Duration' a cadena de texto\n",
    "data['Duration'] = data['Duration'].astype(str)\n",
    "\n",
    "# Aplicamos la función a la columna 'Duration'\n",
    "data['Duration'] = data['Duration'].apply(extraer_duracion_a_horas)\n"
   ]
  },
  {
   "cell_type": "markdown",
   "metadata": {},
   "source": [
    "#### Limpieza data['Schedule']"
   ]
  },
  {
   "cell_type": "code",
   "execution_count": 359,
   "metadata": {},
   "outputs": [],
   "source": [
    "# Pasamos a mayusculas la columna 'Schedule' y eliminamos los espacios en blanco\n",
    "data['Schedule'] = data['Schedule'].str.upper()\n",
    "for d in data['Schedule']:\n",
    "    str(d).strip()\n",
    "# Reemplazamos los valores nulos por 'NINGUNO'\n",
    "data['Schedule'] = data['Schedule'].fillna('NINGUNO')"
   ]
  },
  {
   "cell_type": "markdown",
   "metadata": {},
   "source": [
    "#### Limpieza data['Review']"
   ]
  },
  {
   "cell_type": "code",
   "execution_count": 360,
   "metadata": {},
   "outputs": [],
   "source": [
    "# Unicamente se extraeran los numeros y los Nan se reemplazaran por 0\n",
    "# Primero se borra las comas de los numeros\n",
    "data['Review'] = data['Review'].str.replace(',', '')\n",
    "\n",
    "# Se borran las palabras reviews\n",
    "data['Review'] = data['Review'].str.replace('reviews', '')\n",
    "\n",
    "# Se convierte a numero\n",
    "data['Review'] = pd.to_numeric(data['Review'], errors='coerce', downcast='float')\n",
    "\n",
    "# Se reemplazan los valores nulos por 0\n",
    "data['Review'] = data['Review'].fillna(0)\n",
    "\n",
    "# Se convierte a entero\n",
    "data['Review'] = data['Review'].astype(int)\n"
   ]
  },
  {
   "cell_type": "markdown",
   "metadata": {},
   "source": [
    "#### Limpieza data['What you will learn']"
   ]
  },
  {
   "cell_type": "code",
   "execution_count": 361,
   "metadata": {},
   "outputs": [],
   "source": [
    "# Se borran los espacios en blanco y los valores nulos se reemplazan por 'Nada'\n",
    "data['What you will learn'] = data['What you will learn'].str.strip()\n",
    "data['What you will learn'] = data['What you will learn'].fillna('Nada')"
   ]
  },
  {
   "cell_type": "markdown",
   "metadata": {},
   "source": [
    "#### Limpieza data['Skill gain']"
   ]
  },
  {
   "cell_type": "code",
   "execution_count": 362,
   "metadata": {},
   "outputs": [],
   "source": [
    "# Convertimos la columna de Skill gain a lista\n",
    "data['Skill gain'] = data['Skill gain'].apply(lambda x: eval(x))"
   ]
  },
  {
   "cell_type": "markdown",
   "metadata": {},
   "source": [
    "#### Limpieza data['Modules']"
   ]
  },
  {
   "cell_type": "code",
   "execution_count": 363,
   "metadata": {},
   "outputs": [],
   "source": [
    "# Convertimos la columna de Modules a lista\n",
    "data['Modules'] = data['Modules'].apply(lambda x: eval(x))"
   ]
  },
  {
   "cell_type": "markdown",
   "metadata": {},
   "source": [
    "#### Limpieza data['Instructor']"
   ]
  },
  {
   "cell_type": "code",
   "execution_count": 364,
   "metadata": {},
   "outputs": [],
   "source": [
    "# Convertimos la columna de Instructor a una lista\n",
    "data['Instructor'] = data['Instructor'].apply(lambda x: eval(x))"
   ]
  },
  {
   "cell_type": "markdown",
   "metadata": {},
   "source": [
    "#### Limpieza data['Offered By']"
   ]
  },
  {
   "cell_type": "code",
   "execution_count": 365,
   "metadata": {},
   "outputs": [],
   "source": [
    "# Convertimos la columna de Offered By a una lista\n",
    "data['Offered By'] = data['Offered By'].apply(lambda x: eval(x))\n"
   ]
  },
  {
   "cell_type": "markdown",
   "metadata": {},
   "source": [
    "#### Limpieza data['Keyword']"
   ]
  },
  {
   "cell_type": "code",
   "execution_count": 366,
   "metadata": {},
   "outputs": [],
   "source": [
    "# Se borraran los espacios en blanco y se pondran en mayusculas\n",
    "data['Keyword'] = data['Keyword'].str.upper()\n",
    "for d in data['Keyword']:\n",
    "    str(d).strip()\n",
    "\n",
    "# Se reemplazaran los valores nulos por 'NINGUNO'\n",
    "data['Keyword'] = data['Keyword'].fillna('NINGUNO')\n"
   ]
  },
  {
   "cell_type": "markdown",
   "metadata": {},
   "source": [
    "#### Limpieza data['Course Url']"
   ]
  },
  {
   "cell_type": "code",
   "execution_count": 367,
   "metadata": {},
   "outputs": [],
   "source": [
    "# Se reemplazaran los valores nulos por 'NINGUNO'\n",
    "data['Course Url'] = data['Course Url'].fillna('NINGUNO')\n",
    "# Se borraran los espacios en blanco\n",
    "for d in data['Course Url']:\n",
    "    str(d).strip()\n"
   ]
  },
  {
   "cell_type": "markdown",
   "metadata": {},
   "source": [
    "## Parte 3\n",
    "### Cálculos\n",
    "\n",
    "Se procede a realizar los cálculos solicitados en la práctica."
   ]
  },
  {
   "cell_type": "markdown",
   "metadata": {},
   "source": [
    "#### Cálculo del promedio de calificaciones para cada curso\n",
    "\n",
    "Cálculo del promedio de calificaciones para cada curso en el\n",
    "conjunto de datos. Para ello, se agrupan los datos por el título del curso y se calcula el promedio de las calificaciones para cada grupo.\n"
   ]
  },
  {
   "cell_type": "code",
   "execution_count": 470,
   "metadata": {},
   "outputs": [
    {
     "data": {
      "text/html": [
       "<div>\n",
       "<style scoped>\n",
       "    .dataframe tbody tr th:only-of-type {\n",
       "        vertical-align: middle;\n",
       "    }\n",
       "\n",
       "    .dataframe tbody tr th {\n",
       "        vertical-align: top;\n",
       "    }\n",
       "\n",
       "    .dataframe thead th {\n",
       "        text-align: right;\n",
       "    }\n",
       "</style>\n",
       "<table border=\"1\" class=\"dataframe\">\n",
       "  <thead>\n",
       "    <tr style=\"text-align: right;\">\n",
       "      <th></th>\n",
       "      <th>Curso</th>\n",
       "      <th>Promedio de calidicaciones</th>\n",
       "    </tr>\n",
       "  </thead>\n",
       "  <tbody>\n",
       "    <tr>\n",
       "      <th>0</th>\n",
       "      <td>ASSISTING PUBLIC SECTOR DECISION MAKERS WITH ...</td>\n",
       "      <td>4.8</td>\n",
       "    </tr>\n",
       "    <tr>\n",
       "      <th>1</th>\n",
       "      <td>ATENCIÓN PREHOSPITALARIA DEL ICTUS AGUDO Y SE...</td>\n",
       "      <td>4.9</td>\n",
       "    </tr>\n",
       "    <tr>\n",
       "      <th>2</th>\n",
       "      <td>BUILD A SOCIAL MEDIA PRESENCE FOR YOUR BUSINE...</td>\n",
       "      <td>4.7</td>\n",
       "    </tr>\n",
       "    <tr>\n",
       "      <th>3</th>\n",
       "      <td>BUILD SOCIAL AWARENESS CONTENT FOR TWITTER WI...</td>\n",
       "      <td>0.0</td>\n",
       "    </tr>\n",
       "    <tr>\n",
       "      <th>4</th>\n",
       "      <td>COMERCIO, INMIGRACIÓN Y TIPOS DE CAMBIO EN UN...</td>\n",
       "      <td>4.9</td>\n",
       "    </tr>\n",
       "    <tr>\n",
       "      <th>...</th>\n",
       "      <td>...</td>\n",
       "      <td>...</td>\n",
       "    </tr>\n",
       "    <tr>\n",
       "      <th>6387</th>\n",
       "      <td>현대 로봇공학, 강좌 2: 로봇 기구학</td>\n",
       "      <td>0.0</td>\n",
       "    </tr>\n",
       "    <tr>\n",
       "      <th>6388</th>\n",
       "      <td>현대 로봇공학, 강좌 3: 로봇 동역학</td>\n",
       "      <td>0.0</td>\n",
       "    </tr>\n",
       "    <tr>\n",
       "      <th>6389</th>\n",
       "      <td>현대 로봇공학, 강좌 4: 로봇 동작 계획 및 제어</td>\n",
       "      <td>0.0</td>\n",
       "    </tr>\n",
       "    <tr>\n",
       "      <th>6390</th>\n",
       "      <td>현대 로봇공학, 강좌 5:  로봇 매니퓰레이션 및 차륜형 이동 로봇</td>\n",
       "      <td>0.0</td>\n",
       "    </tr>\n",
       "    <tr>\n",
       "      <th>6391</th>\n",
       "      <td>현대 로봇공학, 강좌 6: 캡스톤 프로젝트, 모바일 매니퓰레이션</td>\n",
       "      <td>0.0</td>\n",
       "    </tr>\n",
       "  </tbody>\n",
       "</table>\n",
       "<p>6392 rows × 2 columns</p>\n",
       "</div>"
      ],
      "text/plain": [
       "                                                  Curso  \\\n",
       "0      ASSISTING PUBLIC SECTOR DECISION MAKERS WITH ...   \n",
       "1      ATENCIÓN PREHOSPITALARIA DEL ICTUS AGUDO Y SE...   \n",
       "2      BUILD A SOCIAL MEDIA PRESENCE FOR YOUR BUSINE...   \n",
       "3      BUILD SOCIAL AWARENESS CONTENT FOR TWITTER WI...   \n",
       "4      COMERCIO, INMIGRACIÓN Y TIPOS DE CAMBIO EN UN...   \n",
       "...                                                 ...   \n",
       "6387                              현대 로봇공학, 강좌 2: 로봇 기구학   \n",
       "6388                              현대 로봇공학, 강좌 3: 로봇 동역학   \n",
       "6389                       현대 로봇공학, 강좌 4: 로봇 동작 계획 및 제어   \n",
       "6390              현대 로봇공학, 강좌 5:  로봇 매니퓰레이션 및 차륜형 이동 로봇   \n",
       "6391                현대 로봇공학, 강좌 6: 캡스톤 프로젝트, 모바일 매니퓰레이션   \n",
       "\n",
       "      Promedio de calidicaciones  \n",
       "0                            4.8  \n",
       "1                            4.9  \n",
       "2                            4.7  \n",
       "3                            0.0  \n",
       "4                            4.9  \n",
       "...                          ...  \n",
       "6387                         0.0  \n",
       "6388                         0.0  \n",
       "6389                         0.0  \n",
       "6390                         0.0  \n",
       "6391                         0.0  \n",
       "\n",
       "[6392 rows x 2 columns]"
      ]
     },
     "execution_count": 470,
     "metadata": {},
     "output_type": "execute_result"
    }
   ],
   "source": [
    "# Agrupa los promedios de las calificaciones por curso\n",
    "promedio_calificaciones = data.groupby('Course Title')['Rating'].mean().reset_index()\n",
    "\n",
    "# Se cambian los nombres de las columnas\n",
    "promedio_calificaciones.columns = ['Curso', 'Promedio de calidicaciones']\n",
    "\n",
    "promedio_calificaciones"
   ]
  },
  {
   "cell_type": "markdown",
   "metadata": {},
   "source": [
    "#### Cálculo de los cursos con mayor rating y menor rating\n",
    "\n",
    "Cálculo de los cursos con mayor rating y menor rating en el conjunto de datos. Para ello, se ordenan los datos por la calificación y se seleccionan los cursos con la calificación más alta y más baja."
   ]
  },
  {
   "cell_type": "code",
   "execution_count": 471,
   "metadata": {},
   "outputs": [
    {
     "name": "stdout",
     "output_type": "stream",
     "text": [
      "Cursos con mayor rating\n"
     ]
    },
    {
     "data": {
      "text/html": [
       "<div>\n",
       "<style scoped>\n",
       "    .dataframe tbody tr th:only-of-type {\n",
       "        vertical-align: middle;\n",
       "    }\n",
       "\n",
       "    .dataframe tbody tr th {\n",
       "        vertical-align: top;\n",
       "    }\n",
       "\n",
       "    .dataframe thead th {\n",
       "        text-align: right;\n",
       "    }\n",
       "</style>\n",
       "<table border=\"1\" class=\"dataframe\">\n",
       "  <thead>\n",
       "    <tr style=\"text-align: right;\">\n",
       "      <th></th>\n",
       "      <th>Cursos con mayor rating</th>\n",
       "      <th>Rating</th>\n",
       "    </tr>\n",
       "  </thead>\n",
       "  <tbody>\n",
       "    <tr>\n",
       "      <th>166</th>\n",
       "      <td>SONGWRITING: WRITING THE MUSIC</td>\n",
       "      <td>5.0</td>\n",
       "    </tr>\n",
       "    <tr>\n",
       "      <th>356</th>\n",
       "      <td>WESTERN RELIGIONS &amp; ECOLOGY</td>\n",
       "      <td>5.0</td>\n",
       "    </tr>\n",
       "    <tr>\n",
       "      <th>362</th>\n",
       "      <td>EL HOLOCAUSTO: EL ABISMO DE LA HUMANIDAD</td>\n",
       "      <td>5.0</td>\n",
       "    </tr>\n",
       "    <tr>\n",
       "      <th>364</th>\n",
       "      <td>莊子─人情 (ZHUANGZI─BETWEEN PEOPLE)</td>\n",
       "      <td>5.0</td>\n",
       "    </tr>\n",
       "    <tr>\n",
       "      <th>376</th>\n",
       "      <td>EXPLORING BEETHOVEN’S PIANO SONATAS PART 2</td>\n",
       "      <td>5.0</td>\n",
       "    </tr>\n",
       "    <tr>\n",
       "      <th>...</th>\n",
       "      <td>...</td>\n",
       "      <td>...</td>\n",
       "    </tr>\n",
       "    <tr>\n",
       "      <th>9132</th>\n",
       "      <td>CLAVES PARA LA IGUALDAD DE GÉNERO SPECIALIZATION</td>\n",
       "      <td>5.0</td>\n",
       "    </tr>\n",
       "    <tr>\n",
       "      <th>9287</th>\n",
       "      <td>TECNOLOGÍAS PARA LA INNOVACIÓN EDUCATIVA</td>\n",
       "      <td>5.0</td>\n",
       "    </tr>\n",
       "    <tr>\n",
       "      <th>9377</th>\n",
       "      <td>ESCOLA 4.0 EDUCAÇÃO E CULTURA MAKER NO CONTEXT...</td>\n",
       "      <td>5.0</td>\n",
       "    </tr>\n",
       "    <tr>\n",
       "      <th>9533</th>\n",
       "      <td>ACTIVITY DESIGN WITH PHET SIMULATIONS FOR STEM...</td>\n",
       "      <td>5.0</td>\n",
       "    </tr>\n",
       "    <tr>\n",
       "      <th>9542</th>\n",
       "      <td>SISTEMAS DIFUSOS</td>\n",
       "      <td>5.0</td>\n",
       "    </tr>\n",
       "  </tbody>\n",
       "</table>\n",
       "<p>75 rows × 2 columns</p>\n",
       "</div>"
      ],
      "text/plain": [
       "                                Cursos con mayor rating  Rating\n",
       "166                      SONGWRITING: WRITING THE MUSIC     5.0\n",
       "356                         WESTERN RELIGIONS & ECOLOGY     5.0\n",
       "362            EL HOLOCAUSTO: EL ABISMO DE LA HUMANIDAD     5.0\n",
       "364                     莊子─人情 (ZHUANGZI─BETWEEN PEOPLE)     5.0\n",
       "376          EXPLORING BEETHOVEN’S PIANO SONATAS PART 2     5.0\n",
       "...                                                 ...     ...\n",
       "9132   CLAVES PARA LA IGUALDAD DE GÉNERO SPECIALIZATION     5.0\n",
       "9287           TECNOLOGÍAS PARA LA INNOVACIÓN EDUCATIVA     5.0\n",
       "9377  ESCOLA 4.0 EDUCAÇÃO E CULTURA MAKER NO CONTEXT...     5.0\n",
       "9533  ACTIVITY DESIGN WITH PHET SIMULATIONS FOR STEM...     5.0\n",
       "9542                                   SISTEMAS DIFUSOS     5.0\n",
       "\n",
       "[75 rows x 2 columns]"
      ]
     },
     "execution_count": 471,
     "metadata": {},
     "output_type": "execute_result"
    }
   ],
   "source": [
    "import pandas as pd\n",
    "\n",
    "# Obtiene los cursos con mayor rating\n",
    "cursos_rating_5 = data.loc[data['Rating'] == 5.0, ['Course Title', 'Rating']]\n",
    "# Obtiene los cursos con menor rating\n",
    "cursos_rating_0 = data.loc[data['Rating'] == 0.0, ['Course Title', 'Rating']]\n",
    "\n",
    "# Muestra los cursos con mayor rating\n",
    "print(\"Cursos con mayor rating\")\n",
    "cursos_rating_5.columns = ['Cursos con mayor rating', 'Rating']\n",
    "cursos_rating_5"
   ]
  },
  {
   "cell_type": "code",
   "execution_count": 472,
   "metadata": {},
   "outputs": [
    {
     "name": "stdout",
     "output_type": "stream",
     "text": [
      "\n",
      "Cursos con menor rating\n"
     ]
    },
    {
     "data": {
      "text/html": [
       "<div>\n",
       "<style scoped>\n",
       "    .dataframe tbody tr th:only-of-type {\n",
       "        vertical-align: middle;\n",
       "    }\n",
       "\n",
       "    .dataframe tbody tr th {\n",
       "        vertical-align: top;\n",
       "    }\n",
       "\n",
       "    .dataframe thead th {\n",
       "        text-align: right;\n",
       "    }\n",
       "</style>\n",
       "<table border=\"1\" class=\"dataframe\">\n",
       "  <thead>\n",
       "    <tr style=\"text-align: right;\">\n",
       "      <th></th>\n",
       "      <th>Cursos con menor rating</th>\n",
       "      <th>Rating</th>\n",
       "    </tr>\n",
       "  </thead>\n",
       "  <tbody>\n",
       "    <tr>\n",
       "      <th>3</th>\n",
       "      <td>DISTRIBUCIÓN DIGITAL DE LA MÚSICA INDEPENDIENTE</td>\n",
       "      <td>0.0</td>\n",
       "    </tr>\n",
       "    <tr>\n",
       "      <th>7</th>\n",
       "      <td>СТАНОВЛЕННЯ СУЧАСНОЇ УКРАЇНИ</td>\n",
       "      <td>0.0</td>\n",
       "    </tr>\n",
       "    <tr>\n",
       "      <th>16</th>\n",
       "      <td>CREATE YOUR UX PORTFOLIO WITH ADOBE PORTFOLIO</td>\n",
       "      <td>0.0</td>\n",
       "    </tr>\n",
       "    <tr>\n",
       "      <th>20</th>\n",
       "      <td>CULTURA MAYA EN YUCATÁN</td>\n",
       "      <td>0.0</td>\n",
       "    </tr>\n",
       "    <tr>\n",
       "      <th>22</th>\n",
       "      <td>HERENCIA NEGRA, APLICACIÓN DE RITMOS AFROPERUANOS</td>\n",
       "      <td>0.0</td>\n",
       "    </tr>\n",
       "    <tr>\n",
       "      <th>...</th>\n",
       "      <td>...</td>\n",
       "      <td>...</td>\n",
       "    </tr>\n",
       "    <tr>\n",
       "      <th>9582</th>\n",
       "      <td>HOUSING JUSTICE: A VIEW FROM INDIAN CITIES</td>\n",
       "      <td>0.0</td>\n",
       "    </tr>\n",
       "    <tr>\n",
       "      <th>9584</th>\n",
       "      <td>R PROGRAMMING AND TIDYVERSE CAPSTONE PROJECT</td>\n",
       "      <td>0.0</td>\n",
       "    </tr>\n",
       "    <tr>\n",
       "      <th>9586</th>\n",
       "      <td>USING MICROSOFT POWERPOINT TO CREATE A CHOICE ...</td>\n",
       "      <td>0.0</td>\n",
       "    </tr>\n",
       "    <tr>\n",
       "      <th>9587</th>\n",
       "      <td>INDIA-US RELATIONS: GEOPOLITICS, CULTURE, AND ...</td>\n",
       "      <td>0.0</td>\n",
       "    </tr>\n",
       "    <tr>\n",
       "      <th>9594</th>\n",
       "      <td>CRÉER DU CONTENU POUR LES RÉSEAUX SOCIAUX AVEC...</td>\n",
       "      <td>0.0</td>\n",
       "    </tr>\n",
       "  </tbody>\n",
       "</table>\n",
       "<p>1439 rows × 2 columns</p>\n",
       "</div>"
      ],
      "text/plain": [
       "                                Cursos con menor rating  Rating\n",
       "3       DISTRIBUCIÓN DIGITAL DE LA MÚSICA INDEPENDIENTE     0.0\n",
       "7                          СТАНОВЛЕННЯ СУЧАСНОЇ УКРАЇНИ     0.0\n",
       "16        CREATE YOUR UX PORTFOLIO WITH ADOBE PORTFOLIO     0.0\n",
       "20                              CULTURA MAYA EN YUCATÁN     0.0\n",
       "22    HERENCIA NEGRA, APLICACIÓN DE RITMOS AFROPERUANOS     0.0\n",
       "...                                                 ...     ...\n",
       "9582         HOUSING JUSTICE: A VIEW FROM INDIAN CITIES     0.0\n",
       "9584       R PROGRAMMING AND TIDYVERSE CAPSTONE PROJECT     0.0\n",
       "9586  USING MICROSOFT POWERPOINT TO CREATE A CHOICE ...     0.0\n",
       "9587  INDIA-US RELATIONS: GEOPOLITICS, CULTURE, AND ...     0.0\n",
       "9594  CRÉER DU CONTENU POUR LES RÉSEAUX SOCIAUX AVEC...     0.0\n",
       "\n",
       "[1439 rows x 2 columns]"
      ]
     },
     "execution_count": 472,
     "metadata": {},
     "output_type": "execute_result"
    }
   ],
   "source": [
    "# Muestra los cursos con menor rating\n",
    "print(\"\\nCursos con menor rating\")\n",
    "cursos_rating_0.columns = ['Cursos con menor rating', 'Rating']\n",
    "cursos_rating_0"
   ]
  },
  {
   "cell_type": "markdown",
   "metadata": {},
   "source": [
    "#### Cálculo del porcentaje de horarios flexibles en relación con el total de cursos\n",
    "\n",
    "Calculó del porcentaje de cursos con horario flexible en relación con el total de cursos en el conjunto de datos. Para ello, se necesita filtrar los datos para seleccionar solo los cursos con horario flexible, luego calcular el porcentaje de estos cursos respecto al total de cursos en el conjunto de datos original y lo redondeen a dos decimales."
   ]
  },
  {
   "cell_type": "code",
   "execution_count": 473,
   "metadata": {},
   "outputs": [
    {
     "data": {
      "text/plain": [
       "92.88"
      ]
     },
     "execution_count": 473,
     "metadata": {},
     "output_type": "execute_result"
    }
   ],
   "source": [
    "# Filtro de los cursos que cumplan un Schedule que sea 'FLEXIBLE SCHEUDLE'\n",
    "cursos_flexible_schedule = data.loc[data['Schedule'] == 'FLEXIBLE SCHEDULE', ['Course Title', 'Schedule']]\n",
    "\n",
    "# Obtiene la cantidad de cursos flexibles y la cantidad total de cursos\n",
    "cantidad_cursos_flexible = len(cursos_flexible_schedule)\n",
    "cantidad_total_cursos = len(data)\n",
    "\n",
    "# Calcula el porcentaje de cursos flexibles\n",
    "porcentaje_cursos_flexible = (cantidad_cursos_flexible / cantidad_total_cursos) * 100\n",
    "\n",
    "# Redondea el porcentaje a dos decimales\n",
    "porcentaje_cursos_flexible = round(porcentaje_cursos_flexible, 2)\n",
    "\n",
    "porcentaje_cursos_flexible"
   ]
  },
  {
   "cell_type": "markdown",
   "metadata": {},
   "source": [
    "## Parte 4\n",
    "### Gráficos\n",
    "\n",
    "Se procede a realizar los gráficos solicitados en la práctica."
   ]
  },
  {
   "cell_type": "markdown",
   "metadata": {},
   "source": [
    "#### **GRÁFICO 1**: Gráfica de barras que muestre el número de cursos en cada nivel de dificultad."
   ]
  },
  {
   "cell_type": "code",
   "execution_count": 474,
   "metadata": {},
   "outputs": [
    {
     "data": {
      "image/png": "[encoded data removed]",
      "text/plain": [
       "<Figure size 640x480 with 1 Axes>"
      ]
     },
     "metadata": {},
     "output_type": "display_data"
    }
   ],
   "source": [
    "#importamos numpy para poder hacer los graficos\t\n",
    "import numpy as np\n",
    "# Se importa matplotlib para poder hacer los graficos\n",
    "import matplotlib.pyplot as plt\n",
    "# Se obtiene la cantidad de cursos por nivel\n",
    "cantidad_cursos_por_nivel = data['Level'].value_counts()\n",
    "\n",
    "# Se obtiene los niveles\n",
    "niveles = cantidad_cursos_por_nivel.index\n",
    "\n",
    "# Se obtiene la cantidad de cursos\n",
    "cantidad_cursos = cantidad_cursos_por_nivel.values\n",
    "\n",
    "# Se obtiene el indice de los niveles\n",
    "indice = np.arange(len(niveles))\n",
    "\n",
    "# Se definen colores para cada nivel\n",
    "colores = ['blue', 'green', 'red']\n",
    "\n",
    "# Se crea el grafico con barras y se asigna un color a cada barra\n",
    "plt.bar(indice, cantidad_cursos, color=colores)\n",
    "\n",
    "# Se ajustan las etiquetas del eje x para mostrar los niveles\n",
    "plt.xticks(indice, niveles, rotation=0)\n",
    "\n",
    "# Agrega las cantidades encima de las barras\n",
    "for i, cantidad in enumerate(cantidad_cursos):\n",
    "    plt.text(i, cantidad + 0.1, str(cantidad), ha='center', va='bottom')\n",
    "\n",
    "#Agregando propiedades a la gráfica\n",
    "plt.title('Cantidad de cursos por nivel')\n",
    "plt.xlabel('Nivel')\n",
    "plt.ylabel('Cantidad de cursos')\n",
    "\n",
    "# Se muestra la gráfica\n",
    "plt.show()\n"
   ]
  },
  {
   "cell_type": "markdown",
   "metadata": {},
   "source": [
    "#### **GRÁFICO 2**: Gráfica de barras horizontal del número de cursos en las principales categorías."
   ]
  },
  {
   "cell_type": "code",
   "execution_count": 475,
   "metadata": {},
   "outputs": [
    {
     "data": {
      "image/png": "[encoded data removed]",
      "text/plain": [
       "<Figure size 640x480 with 1 Axes>"
      ]
     },
     "metadata": {},
     "output_type": "display_data"
    }
   ],
   "source": [
    "# Se obtiene la cantidad de cursos por categoría\n",
    "categorias = data['Keyword'].value_counts().index\n",
    "num_cursos_categoria = data['Keyword'].value_counts()\n",
    "\n",
    "# color de las barras\n",
    "colores = ['red', 'blue', 'green', 'purple', 'orange', 'pink', 'yellow', 'gray', 'brown', 'black']\n",
    "\n",
    "# Se crea la gráfica de barras horizontal\n",
    "plt.barh(categorias, num_cursos_categoria, color=colores)\n",
    "\n",
    "# Agrega el texto con la cantidad de cursos al lado de cada barra\n",
    "for i, num_cursos in enumerate(num_cursos_categoria):\n",
    "    plt.text(num_cursos, i, str(num_cursos), ha='left', va='center')\n",
    "\n",
    "# Propiedades de la gráfica\n",
    "plt.title('Cantidad de cursos por categoría')\n",
    "plt.xlabel('Cantidad de cursos')\n",
    "plt.ylabel('Categoría')\n",
    "\n",
    "# Se muestra la gráfica\n",
    "plt.show()"
   ]
  },
  {
   "cell_type": "markdown",
   "metadata": {},
   "source": [
    "#### **GRÁFICO 3**: Grafico de dispersión de la relación entre la duración el curso y el número de revisiones."
   ]
  },
  {
   "cell_type": "code",
   "execution_count": 476,
   "metadata": {},
   "outputs": [
    {
     "data": {
      "image/png": "[encoded data removed]",
      "text/plain": [
       "<Figure size 640x480 with 1 Axes>"
      ]
     },
     "metadata": {},
     "output_type": "display_data"
    }
   ],
   "source": [
    "# Se obtiene las cantidades\n",
    "duracion = data['Duration']\n",
    "revisiones = data['Review']\n",
    "\n",
    "# Calcula la pendiente y la intersección de la línea de tendencia (regresión lineal)\n",
    "pendiente, interseccion = np.polyfit(duracion, revisiones, 1)\n",
    "\n",
    "# Calcula los valores de la línea de tendencia\n",
    "x_vals = np.array([min(duracion), max(duracion)])\n",
    "y_vals = pendiente * x_vals + interseccion\n",
    "\n",
    "# Calcula el coeficiente de correlación\n",
    "coef_corr = np.corrcoef(duracion, revisiones)[0, 1]\n",
    "\n",
    "# Crea el gráfico de dispersión\n",
    "plt.scatter(duracion, revisiones, color='blue', alpha=0.5)\n",
    "\n",
    "# Agrega la línea de tendencia\n",
    "plt.plot(x_vals, y_vals, color='red')\n",
    "\n",
    "# Propiedades del gráfico\n",
    "plt.title('Relación entre Duración del Curso y Número de Revisiones')\n",
    "plt.xlabel('Duración del Curso')\n",
    "plt.ylabel('Número de Revisiones')\n",
    "\n",
    "# Agregando cuadrícula\n",
    "plt.grid(True)\n",
    "\n",
    "# Muestra el gráfico\n",
    "plt.show()"
   ]
  },
  {
   "cell_type": "markdown",
   "metadata": {},
   "source": [
    "#### **GRÁFICO 4**: Histograma de la distribución de las duraciones de los cursos."
   ]
  },
  {
   "cell_type": "code",
   "execution_count": 477,
   "metadata": {},
   "outputs": [
    {
     "data": {
      "image/png": "[encoded data removed]",
      "text/plain": [
       "<Figure size 640x480 with 1 Axes>"
      ]
     },
     "metadata": {},
     "output_type": "display_data"
    }
   ],
   "source": [
    "# Se obtienen los datos\n",
    "duracion = data['Duration']\n",
    "\n",
    "# Crea el histograma\n",
    "frecuencia, bins, _ = plt.hist(duracion, color='blue', edgecolor='black')\n",
    "plt.hist(duracion, color='blue',edgecolor='black')\n",
    "\n",
    "# Propiedades del gráfico\n",
    "plt.title('Histograma de la distribución de la Duración de los Cursos')\n",
    "plt.xlabel('Duración del Curso (horas)')\n",
    "plt.ylabel('Frecuencia')\n",
    "\n",
    "for i in range(len(frecuencia)):\n",
    "    x_pos = (bins[i] + bins[i+1]) / 2\n",
    "    plt.text(x_pos, frecuencia[i], str(int(frecuencia[i])), ha='center', va='bottom', fontsize=10)\n",
    "\n",
    "# Muestra el gráfico\n",
    "plt.show()"
   ]
  },
  {
   "cell_type": "markdown",
   "metadata": {},
   "source": [
    "#### **GRÁFICO 5**: Gráfico de cajas para visualizar la distribución de las calificaciones de los cursos por nivel de dificultad."
   ]
  },
  {
   "cell_type": "code",
   "execution_count": 478,
   "metadata": {},
   "outputs": [
    {
     "data": {
      "image/png": "[encoded data removed]",
      "text/plain": [
       "<Figure size 640x480 with 1 Axes>"
      ]
     },
     "metadata": {},
     "output_type": "display_data"
    }
   ],
   "source": [
    "\n",
    "# Agrupa los datos por nivel de dificultad\n",
    "grouped_data = data.groupby('Level')['Rating'].apply(list)\n",
    "\n",
    "# Crea el gráfico de cajas\n",
    "plt.boxplot(grouped_data.values, labels=grouped_data.index, patch_artist=True)\n",
    "\n",
    "# Propiedades del gráfico\n",
    "plt.title('Gráfico de cajas de la distribución de las calificaciones de los cursos por Nivel de dificultad')\n",
    "plt.xlabel('Nivel de dificultad')\n",
    "plt.ylabel('Número de Revisiones')\n",
    "\n",
    "# Muestra el gráfico\n",
    "plt.tight_layout()\n",
    "plt.show()"
   ]
  }
 ],
 "metadata": {
  "kernelspec": {
   "display_name": "Python 3",
   "language": "python",
   "name": "python3"
  },
  "language_info": {
   "codemirror_mode": {
    "name": "ipython",
    "version": 3
   },
   "file_extension": ".py",
   "mimetype": "text/x-python",
   "name": "python",
   "nbconvert_exporter": "python",
   "pygments_lexer": "ipython3",
   "version": "3.12.1"
  }
 },
 "nbformat": 4,
 "nbformat_minor": 2
}
