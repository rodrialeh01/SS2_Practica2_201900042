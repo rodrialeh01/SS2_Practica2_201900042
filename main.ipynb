{
 "cells": [
  {
   "cell_type": "markdown",
   "metadata": {},
   "source": [
    "# Práctica 2\n",
    "Seminario de Sistemas 2\n",
    "\n",
    "Sección A\n",
    "\n",
    "Nombre del Alumno: Rodrigo Alejandro Hernández de León\n",
    "\n",
    "Carné: 201900042"
   ]
  },
  {
   "cell_type": "markdown",
   "metadata": {},
   "source": [
    "## Parte 1\n",
    "### Extracción de datos\n",
    "Importamos pandas para poder trabajar con los datos y cargamos el archivo de datos `datos.csv` en un DataFrame de pandas."
   ]
  },
  {
   "cell_type": "code",
   "execution_count": 1,
   "metadata": {},
   "outputs": [
    {
     "data": {
      "text/html": [
       "<div>\n",
       "<style scoped>\n",
       "    .dataframe tbody tr th:only-of-type {\n",
       "        vertical-align: middle;\n",
       "    }\n",
       "\n",
       "    .dataframe tbody tr th {\n",
       "        vertical-align: top;\n",
       "    }\n",
       "\n",
       "    .dataframe thead th {\n",
       "        text-align: right;\n",
       "    }\n",
       "</style>\n",
       "<table border=\"1\" class=\"dataframe\">\n",
       "  <thead>\n",
       "    <tr style=\"text-align: right;\">\n",
       "      <th></th>\n",
       "      <th>Course Title</th>\n",
       "      <th>Rating</th>\n",
       "      <th>Level</th>\n",
       "      <th>Duration</th>\n",
       "      <th>Schedule</th>\n",
       "      <th>Review</th>\n",
       "      <th>What you will learn</th>\n",
       "      <th>Skill gain</th>\n",
       "      <th>Modules</th>\n",
       "      <th>Instructor</th>\n",
       "      <th>Offered By</th>\n",
       "      <th>Keyword</th>\n",
       "      <th>Course Url</th>\n",
       "    </tr>\n",
       "  </thead>\n",
       "  <tbody>\n",
       "    <tr>\n",
       "      <th>0</th>\n",
       "      <td>Fashion as Design</td>\n",
       "      <td>4.8</td>\n",
       "      <td>Beginner level</td>\n",
       "      <td>20 hours (approximately)</td>\n",
       "      <td>Flexible schedule</td>\n",
       "      <td>2,813 reviews</td>\n",
       "      <td>NaN</td>\n",
       "      <td>['Art History', 'Art', 'History', 'Creativity']</td>\n",
       "      <td>['Introduction', 'Heroes', 'Silhouettes', 'Cou...</td>\n",
       "      <td>['Anna Burckhardt', 'Paola Antonelli', 'Michel...</td>\n",
       "      <td>['The Museum of Modern Art']</td>\n",
       "      <td>Arts and Humanities</td>\n",
       "      <td>https://www.coursera.org/learn/fashion-design</td>\n",
       "    </tr>\n",
       "    <tr>\n",
       "      <th>1</th>\n",
       "      <td>Modern American Poetry</td>\n",
       "      <td>4.4</td>\n",
       "      <td>Beginner level</td>\n",
       "      <td>Approx. 34 hours to complete</td>\n",
       "      <td>Flexible schedule</td>\n",
       "      <td>100 reviews</td>\n",
       "      <td>NaN</td>\n",
       "      <td>[]</td>\n",
       "      <td>['Orientation', 'Module 1', 'Module 2', 'Modul...</td>\n",
       "      <td>['Cary Nelson']</td>\n",
       "      <td>['University of Illinois at Urbana-Champaign']</td>\n",
       "      <td>Arts and Humanities</td>\n",
       "      <td>https://www.coursera.org/learn/modern-american...</td>\n",
       "    </tr>\n",
       "    <tr>\n",
       "      <th>2</th>\n",
       "      <td>Pixel Art for Video Games</td>\n",
       "      <td>4.5</td>\n",
       "      <td>Beginner level</td>\n",
       "      <td>9 hours (approximately)</td>\n",
       "      <td>Flexible schedule</td>\n",
       "      <td>227 reviews</td>\n",
       "      <td>NaN</td>\n",
       "      <td>[]</td>\n",
       "      <td>['Week 1: Introduction to Pixel Art', 'Week 2:...</td>\n",
       "      <td>['Andrew Dennis', 'Ricardo Guimaraes']</td>\n",
       "      <td>['Michigan State University']</td>\n",
       "      <td>Arts and Humanities</td>\n",
       "      <td>https://www.coursera.org/learn/pixel-art-video...</td>\n",
       "    </tr>\n",
       "    <tr>\n",
       "      <th>3</th>\n",
       "      <td>Distribución digital de la música independiente</td>\n",
       "      <td>NaN</td>\n",
       "      <td>Beginner level</td>\n",
       "      <td>Approx. 8 hours to complete</td>\n",
       "      <td>Flexible schedule</td>\n",
       "      <td>NaN</td>\n",
       "      <td>NaN</td>\n",
       "      <td>[]</td>\n",
       "      <td>['Semana 1', 'Semana 2', 'Semana 3', 'Semana 4']</td>\n",
       "      <td>['Eduardo de la Vara Brown.']</td>\n",
       "      <td>['SAE Institute México']</td>\n",
       "      <td>Arts and Humanities</td>\n",
       "      <td>https://www.coursera.org/learn/distribucion-di...</td>\n",
       "    </tr>\n",
       "    <tr>\n",
       "      <th>4</th>\n",
       "      <td>The Blues: Understanding and Performing an Ame...</td>\n",
       "      <td>4.8</td>\n",
       "      <td>Beginner level</td>\n",
       "      <td>Approx. 11 hours to complete</td>\n",
       "      <td>Flexible schedule</td>\n",
       "      <td>582 reviews</td>\n",
       "      <td>Students will be able to describe the blues as...</td>\n",
       "      <td>['Music', 'Chord', 'Jazz', 'Jazz Improvisation']</td>\n",
       "      <td>['Blues Progressions – Theory and Practice ', ...</td>\n",
       "      <td>['Dariusz Terefenko']</td>\n",
       "      <td>['University of Rochester']</td>\n",
       "      <td>Arts and Humanities</td>\n",
       "      <td>https://www.coursera.org/learn/the-blues</td>\n",
       "    </tr>\n",
       "    <tr>\n",
       "      <th>...</th>\n",
       "      <td>...</td>\n",
       "      <td>...</td>\n",
       "      <td>...</td>\n",
       "      <td>...</td>\n",
       "      <td>...</td>\n",
       "      <td>...</td>\n",
       "      <td>...</td>\n",
       "      <td>...</td>\n",
       "      <td>...</td>\n",
       "      <td>...</td>\n",
       "      <td>...</td>\n",
       "      <td>...</td>\n",
       "      <td>...</td>\n",
       "    </tr>\n",
       "    <tr>\n",
       "      <th>8690</th>\n",
       "      <td>Architecting with Google Kubernetes Engine: Pr...</td>\n",
       "      <td>4.9</td>\n",
       "      <td>Intermediate level</td>\n",
       "      <td>14 hours (approximately)</td>\n",
       "      <td>Flexible schedule</td>\n",
       "      <td>30 reviews</td>\n",
       "      <td>NaN</td>\n",
       "      <td>[]</td>\n",
       "      <td>['Introducción al curso', 'Control de acceso y...</td>\n",
       "      <td>['Google Cloud Training']</td>\n",
       "      <td>['Google Cloud']</td>\n",
       "      <td>Social Sciences</td>\n",
       "      <td>https://www.coursera.org/learn/deploying-secur...</td>\n",
       "    </tr>\n",
       "    <tr>\n",
       "      <th>8691</th>\n",
       "      <td>Computational Thinking for K-12 Educators: Nes...</td>\n",
       "      <td>NaN</td>\n",
       "      <td>Beginner level</td>\n",
       "      <td>11 hours (approximately)</td>\n",
       "      <td>Flexible schedule</td>\n",
       "      <td>NaN</td>\n",
       "      <td>NaN</td>\n",
       "      <td>['Education', 'want', 'Resource', 'Causality']</td>\n",
       "      <td>['Course Orientation', 'Nested If/Else Part 1'...</td>\n",
       "      <td>['Beth Simon']</td>\n",
       "      <td>['University of California San Diego']</td>\n",
       "      <td>Social Sciences</td>\n",
       "      <td>https://www.coursera.org/learn/block-programmi...</td>\n",
       "    </tr>\n",
       "    <tr>\n",
       "      <th>8692</th>\n",
       "      <td>Cómo combinar y analizar datos complejos</td>\n",
       "      <td>NaN</td>\n",
       "      <td>NaN</td>\n",
       "      <td>Approx. 9 hours to complete</td>\n",
       "      <td>Flexible schedule</td>\n",
       "      <td>NaN</td>\n",
       "      <td>NaN</td>\n",
       "      <td>[]</td>\n",
       "      <td>['Estimación básica', 'Modelos', 'Vinculación ...</td>\n",
       "      <td>['Richard Valliant, Ph.D.']</td>\n",
       "      <td>['University of Maryland, College Park']</td>\n",
       "      <td>Social Sciences</td>\n",
       "      <td>https://www.coursera.org/learn/data-collection...</td>\n",
       "    </tr>\n",
       "    <tr>\n",
       "      <th>8693</th>\n",
       "      <td>Architecting with Google Kubernetes Engine: Wo...</td>\n",
       "      <td>NaN</td>\n",
       "      <td>Intermediate level</td>\n",
       "      <td>19 hours (approximately)</td>\n",
       "      <td>Flexible schedule</td>\n",
       "      <td>NaN</td>\n",
       "      <td>NaN</td>\n",
       "      <td>[]</td>\n",
       "      <td>['Introdução ao curso', 'Operações do Kubernet...</td>\n",
       "      <td>['Google Cloud Training']</td>\n",
       "      <td>['Google Cloud']</td>\n",
       "      <td>Social Sciences</td>\n",
       "      <td>https://www.coursera.org/learn/deploying-workl...</td>\n",
       "    </tr>\n",
       "    <tr>\n",
       "      <th>8694</th>\n",
       "      <td>Visualizing static networks with R</td>\n",
       "      <td>NaN</td>\n",
       "      <td>Intermediate level</td>\n",
       "      <td>2 hours</td>\n",
       "      <td>NaN</td>\n",
       "      <td>NaN</td>\n",
       "      <td>Learn to preprocess raw data to create nodes a...</td>\n",
       "      <td>['Network Analysis', 'igraph', 'R Programming'...</td>\n",
       "      <td>['Learn step-by-step']</td>\n",
       "      <td>['You (Lilian) Cheng']</td>\n",
       "      <td>['Coursera Project Network']</td>\n",
       "      <td>Social Sciences</td>\n",
       "      <td>https://www.coursera.org/projects/visualizing-...</td>\n",
       "    </tr>\n",
       "  </tbody>\n",
       "</table>\n",
       "<p>8695 rows × 13 columns</p>\n",
       "</div>"
      ],
      "text/plain": [
       "                                           Course Title  Rating  \\\n",
       "0                                     Fashion as Design     4.8   \n",
       "1                                Modern American Poetry     4.4   \n",
       "2                             Pixel Art for Video Games     4.5   \n",
       "3       Distribución digital de la música independiente     NaN   \n",
       "4     The Blues: Understanding and Performing an Ame...     4.8   \n",
       "...                                                 ...     ...   \n",
       "8690  Architecting with Google Kubernetes Engine: Pr...     4.9   \n",
       "8691  Computational Thinking for K-12 Educators: Nes...     NaN   \n",
       "8692           Cómo combinar y analizar datos complejos     NaN   \n",
       "8693  Architecting with Google Kubernetes Engine: Wo...     NaN   \n",
       "8694                 Visualizing static networks with R     NaN   \n",
       "\n",
       "                   Level                      Duration           Schedule  \\\n",
       "0         Beginner level      20 hours (approximately)  Flexible schedule   \n",
       "1         Beginner level  Approx. 34 hours to complete  Flexible schedule   \n",
       "2         Beginner level       9 hours (approximately)  Flexible schedule   \n",
       "3         Beginner level   Approx. 8 hours to complete  Flexible schedule   \n",
       "4         Beginner level  Approx. 11 hours to complete  Flexible schedule   \n",
       "...                  ...                           ...                ...   \n",
       "8690  Intermediate level      14 hours (approximately)  Flexible schedule   \n",
       "8691      Beginner level      11 hours (approximately)  Flexible schedule   \n",
       "8692                 NaN   Approx. 9 hours to complete  Flexible schedule   \n",
       "8693  Intermediate level      19 hours (approximately)  Flexible schedule   \n",
       "8694  Intermediate level                       2 hours                NaN   \n",
       "\n",
       "             Review                                What you will learn  \\\n",
       "0     2,813 reviews                                                NaN   \n",
       "1       100 reviews                                                NaN   \n",
       "2       227 reviews                                                NaN   \n",
       "3               NaN                                                NaN   \n",
       "4       582 reviews  Students will be able to describe the blues as...   \n",
       "...             ...                                                ...   \n",
       "8690     30 reviews                                                NaN   \n",
       "8691            NaN                                                NaN   \n",
       "8692            NaN                                                NaN   \n",
       "8693            NaN                                                NaN   \n",
       "8694            NaN  Learn to preprocess raw data to create nodes a...   \n",
       "\n",
       "                                             Skill gain  \\\n",
       "0       ['Art History', 'Art', 'History', 'Creativity']   \n",
       "1                                                    []   \n",
       "2                                                    []   \n",
       "3                                                    []   \n",
       "4      ['Music', 'Chord', 'Jazz', 'Jazz Improvisation']   \n",
       "...                                                 ...   \n",
       "8690                                                 []   \n",
       "8691     ['Education', 'want', 'Resource', 'Causality']   \n",
       "8692                                                 []   \n",
       "8693                                                 []   \n",
       "8694  ['Network Analysis', 'igraph', 'R Programming'...   \n",
       "\n",
       "                                                Modules  \\\n",
       "0     ['Introduction', 'Heroes', 'Silhouettes', 'Cou...   \n",
       "1     ['Orientation', 'Module 1', 'Module 2', 'Modul...   \n",
       "2     ['Week 1: Introduction to Pixel Art', 'Week 2:...   \n",
       "3      ['Semana 1', 'Semana 2', 'Semana 3', 'Semana 4']   \n",
       "4     ['Blues Progressions – Theory and Practice ', ...   \n",
       "...                                                 ...   \n",
       "8690  ['Introducción al curso', 'Control de acceso y...   \n",
       "8691  ['Course Orientation', 'Nested If/Else Part 1'...   \n",
       "8692  ['Estimación básica', 'Modelos', 'Vinculación ...   \n",
       "8693  ['Introdução ao curso', 'Operações do Kubernet...   \n",
       "8694                             ['Learn step-by-step']   \n",
       "\n",
       "                                             Instructor  \\\n",
       "0     ['Anna Burckhardt', 'Paola Antonelli', 'Michel...   \n",
       "1                                       ['Cary Nelson']   \n",
       "2                ['Andrew Dennis', 'Ricardo Guimaraes']   \n",
       "3                         ['Eduardo de la Vara Brown.']   \n",
       "4                                 ['Dariusz Terefenko']   \n",
       "...                                                 ...   \n",
       "8690                          ['Google Cloud Training']   \n",
       "8691                                     ['Beth Simon']   \n",
       "8692                        ['Richard Valliant, Ph.D.']   \n",
       "8693                          ['Google Cloud Training']   \n",
       "8694                             ['You (Lilian) Cheng']   \n",
       "\n",
       "                                          Offered By              Keyword  \\\n",
       "0                       ['The Museum of Modern Art']  Arts and Humanities   \n",
       "1     ['University of Illinois at Urbana-Champaign']  Arts and Humanities   \n",
       "2                      ['Michigan State University']  Arts and Humanities   \n",
       "3                           ['SAE Institute México']  Arts and Humanities   \n",
       "4                        ['University of Rochester']  Arts and Humanities   \n",
       "...                                              ...                  ...   \n",
       "8690                                ['Google Cloud']      Social Sciences   \n",
       "8691          ['University of California San Diego']      Social Sciences   \n",
       "8692        ['University of Maryland, College Park']      Social Sciences   \n",
       "8693                                ['Google Cloud']      Social Sciences   \n",
       "8694                    ['Coursera Project Network']      Social Sciences   \n",
       "\n",
       "                                             Course Url  \n",
       "0         https://www.coursera.org/learn/fashion-design  \n",
       "1     https://www.coursera.org/learn/modern-american...  \n",
       "2     https://www.coursera.org/learn/pixel-art-video...  \n",
       "3     https://www.coursera.org/learn/distribucion-di...  \n",
       "4              https://www.coursera.org/learn/the-blues  \n",
       "...                                                 ...  \n",
       "8690  https://www.coursera.org/learn/deploying-secur...  \n",
       "8691  https://www.coursera.org/learn/block-programmi...  \n",
       "8692  https://www.coursera.org/learn/data-collection...  \n",
       "8693  https://www.coursera.org/learn/deploying-workl...  \n",
       "8694  https://www.coursera.org/projects/visualizing-...  \n",
       "\n",
       "[8695 rows x 13 columns]"
      ]
     },
     "execution_count": 1,
     "metadata": {},
     "output_type": "execute_result"
    }
   ],
   "source": [
    "import pandas as pd\n",
    "\n",
    "# Cargamos la data\n",
    "data = pd.read_csv('datos.csv')\n",
    "\n",
    "# Eliminando duplicados:\n",
    "data = data.drop_duplicates()\n",
    "data"
   ]
  },
  {
   "cell_type": "markdown",
   "metadata": {},
   "source": [
    "## Parte 2\n",
    "### Limpieza de datos\n",
    "\n",
    "Se procede a limpiar los datos, cambiando los valores de las columnas para el análisis y asi tener un mejor manejo de los datos."
   ]
  },
  {
   "cell_type": "markdown",
   "metadata": {},
   "source": [
    "#### Limpieza data['Course']"
   ]
  },
  {
   "cell_type": "code",
   "execution_count": 2,
   "metadata": {},
   "outputs": [],
   "source": [
    "# El course title lo ponemos en mayusculas y eliminamos los espacios en blanco\n",
    "data['Course Title'] = data['Course Title'].str.upper()\n",
    "for d in data['Course Title']:\n",
    "    str(d).strip()\n"
   ]
  },
  {
   "cell_type": "markdown",
   "metadata": {},
   "source": [
    "#### Limpieza data['Rating']"
   ]
  },
  {
   "cell_type": "code",
   "execution_count": 3,
   "metadata": {},
   "outputs": [],
   "source": [
    "# Lo convertimos a numero\n",
    "data['Rating'] = pd.to_numeric(data['Rating'], errors='coerce', downcast='float')\n",
    "# El rating donde tenga vacios o nulos le ponemos 0\n",
    "data['Rating'] = data['Rating'].fillna(0)"
   ]
  },
  {
   "cell_type": "markdown",
   "metadata": {},
   "source": [
    "#### Limpieza data['Level']"
   ]
  },
  {
   "cell_type": "code",
   "execution_count": 4,
   "metadata": {},
   "outputs": [],
   "source": [
    "# La columna de Level ponemos en mayusculas y eliminamos los espacios en blanco\n",
    "data['Level'] = data['Level'].str.upper()\n",
    "for d in data['Level']:\n",
    "    str(d).strip()"
   ]
  },
  {
   "cell_type": "markdown",
   "metadata": {},
   "source": [
    "#### Limpieza data['Duration']"
   ]
  },
  {
   "cell_type": "code",
   "execution_count": 5,
   "metadata": {},
   "outputs": [],
   "source": [
    "# En la columna duración se extraera los numeros de horas por medio de una expresión regular\n",
    "import re\n",
    "# funcion para obtener la cantidad de horas\n",
    "def extraer_duracion_a_horas(cadena):\n",
    "    patron_numeros = r'\\d+'\n",
    "\n",
    "    numeros = re.findall(patron_numeros, cadena)\n",
    "\n",
    "    if len(numeros) == 1:\n",
    "        return int(numeros[0])  \n",
    "    elif len(numeros) == 2:\n",
    "        meses = int(numeros[0])\n",
    "        horas_semana = int(numeros[1])\n",
    "        semanas_mes = (365.25/7)/12\n",
    "        return int(meses * 4 * horas_semana)\n",
    "    else:\n",
    "        return 0\n",
    "\n",
    "#Los nulos seran 0\n",
    "data['Duration'] = data['Duration'].fillna(0)\n",
    "\n",
    "# Convertimos la columna 'Duration' a cadena de texto\n",
    "data['Duration'] = data['Duration'].astype(str)\n",
    "\n",
    "# Aplicamos la función a la columna 'Duration'\n",
    "data['Duration'] = data['Duration'].apply(extraer_duracion_a_horas)\n"
   ]
  },
  {
   "cell_type": "markdown",
   "metadata": {},
   "source": [
    "#### Limpieza data['Schedule']"
   ]
  },
  {
   "cell_type": "code",
   "execution_count": 6,
   "metadata": {},
   "outputs": [],
   "source": [
    "# Pasamos a mayusculas la columna 'Schedule' y eliminamos los espacios en blanco\n",
    "data['Schedule'] = data['Schedule'].str.upper()\n",
    "for d in data['Schedule']:\n",
    "    str(d).strip()\n",
    "# Reemplazamos los valores nulos por 'NINGUNO'\n",
    "data['Schedule'] = data['Schedule'].fillna('NINGUNO')"
   ]
  },
  {
   "cell_type": "markdown",
   "metadata": {},
   "source": [
    "#### Limpieza data['Review']"
   ]
  },
  {
   "cell_type": "code",
   "execution_count": 7,
   "metadata": {},
   "outputs": [],
   "source": [
    "# Unicamente se extraeran los numeros y los Nan se reemplazaran por 0\n",
    "# Primero se borra las comas de los numeros\n",
    "data['Review'] = data['Review'].str.replace(',', '')\n",
    "\n",
    "# Se borran las palabras reviews\n",
    "data['Review'] = data['Review'].str.replace('reviews', '')\n",
    "\n",
    "# Se convierte a numero\n",
    "data['Review'] = pd.to_numeric(data['Review'], errors='coerce', downcast='float')\n",
    "\n",
    "# Se reemplazan los valores nulos por 0\n",
    "data['Review'] = data['Review'].fillna(0)\n",
    "\n",
    "# Se convierte a entero\n",
    "data['Review'] = data['Review'].astype(int)\n"
   ]
  },
  {
   "cell_type": "markdown",
   "metadata": {},
   "source": [
    "#### Limpieza data['What you will learn']"
   ]
  },
  {
   "cell_type": "code",
   "execution_count": 8,
   "metadata": {},
   "outputs": [],
   "source": [
    "# Se borran los espacios en blanco y los valores nulos se reemplazan por 'Nada'\n",
    "data['What you will learn'] = data['What you will learn'].str.strip()\n",
    "data['What you will learn'] = data['What you will learn'].fillna('Nada')"
   ]
  },
  {
   "cell_type": "markdown",
   "metadata": {},
   "source": [
    "#### Limpieza data['Skill gain']"
   ]
  },
  {
   "cell_type": "code",
   "execution_count": 9,
   "metadata": {},
   "outputs": [],
   "source": [
    "# Convertimos la columna de Skill gain a lista\n",
    "data['Skill gain'] = data['Skill gain'].apply(lambda x: eval(x))"
   ]
  },
  {
   "cell_type": "markdown",
   "metadata": {},
   "source": [
    "#### Limpieza data['Modules']"
   ]
  },
  {
   "cell_type": "code",
   "execution_count": 10,
   "metadata": {},
   "outputs": [],
   "source": [
    "# Convertimos la columna de Modules a lista\n",
    "data['Modules'] = data['Modules'].apply(lambda x: eval(x))"
   ]
  },
  {
   "cell_type": "markdown",
   "metadata": {},
   "source": [
    "#### Limpieza data['Instructor']"
   ]
  },
  {
   "cell_type": "code",
   "execution_count": 11,
   "metadata": {},
   "outputs": [],
   "source": [
    "# Convertimos la columna de Instructor a una lista\n",
    "data['Instructor'] = data['Instructor'].apply(lambda x: eval(x))"
   ]
  },
  {
   "cell_type": "markdown",
   "metadata": {},
   "source": [
    "#### Limpieza data['Offered By']"
   ]
  },
  {
   "cell_type": "code",
   "execution_count": 12,
   "metadata": {},
   "outputs": [],
   "source": [
    "# Convertimos la columna de Offered By a una lista\n",
    "data['Offered By'] = data['Offered By'].apply(lambda x: eval(x))\n"
   ]
  },
  {
   "cell_type": "markdown",
   "metadata": {},
   "source": [
    "#### Limpieza data['Keyword']"
   ]
  },
  {
   "cell_type": "code",
   "execution_count": 13,
   "metadata": {},
   "outputs": [],
   "source": [
    "# Se borraran los espacios en blanco y se pondran en mayusculas\n",
    "data['Keyword'] = data['Keyword'].str.upper()\n",
    "for d in data['Keyword']:\n",
    "    str(d).strip()\n",
    "\n",
    "# Se reemplazaran los valores nulos por 'NINGUNO'\n",
    "data['Keyword'] = data['Keyword'].fillna('NINGUNO')\n"
   ]
  },
  {
   "cell_type": "markdown",
   "metadata": {},
   "source": [
    "#### Limpieza data['Course Url']"
   ]
  },
  {
   "cell_type": "code",
   "execution_count": 14,
   "metadata": {},
   "outputs": [],
   "source": [
    "# Se reemplazaran los valores nulos por 'NINGUNO'\n",
    "data['Course Url'] = data['Course Url'].fillna('NINGUNO')\n",
    "# Se borraran los espacios en blanco\n",
    "for d in data['Course Url']:\n",
    "    str(d).strip()\n"
   ]
  },
  {
   "cell_type": "markdown",
   "metadata": {},
   "source": [
    "## Parte 3\n",
    "### Cálculos\n",
    "\n",
    "Se procede a realizar los cálculos solicitados en la práctica."
   ]
  },
  {
   "cell_type": "markdown",
   "metadata": {},
   "source": [
    "#### Cálculo del promedio de calificaciones para cada curso\n",
    "\n",
    "Cálculo del promedio de calificaciones para cada curso en el\n",
    "conjunto de datos. Para ello, se agrupan los datos por el título del curso y se calcula el promedio de las calificaciones para cada grupo.\n"
   ]
  },
  {
   "cell_type": "code",
   "execution_count": 15,
   "metadata": {},
   "outputs": [
    {
     "data": {
      "text/html": [
       "<div>\n",
       "<style scoped>\n",
       "    .dataframe tbody tr th:only-of-type {\n",
       "        vertical-align: middle;\n",
       "    }\n",
       "\n",
       "    .dataframe tbody tr th {\n",
       "        vertical-align: top;\n",
       "    }\n",
       "\n",
       "    .dataframe thead th {\n",
       "        text-align: right;\n",
       "    }\n",
       "</style>\n",
       "<table border=\"1\" class=\"dataframe\">\n",
       "  <thead>\n",
       "    <tr style=\"text-align: right;\">\n",
       "      <th></th>\n",
       "      <th>Curso</th>\n",
       "      <th>Promedio de calidicaciones</th>\n",
       "    </tr>\n",
       "  </thead>\n",
       "  <tbody>\n",
       "    <tr>\n",
       "      <th>0</th>\n",
       "      <td>ASSISTING PUBLIC SECTOR DECISION MAKERS WITH ...</td>\n",
       "      <td>4.8</td>\n",
       "    </tr>\n",
       "    <tr>\n",
       "      <th>1</th>\n",
       "      <td>ATENCIÓN PREHOSPITALARIA DEL ICTUS AGUDO Y SE...</td>\n",
       "      <td>4.9</td>\n",
       "    </tr>\n",
       "    <tr>\n",
       "      <th>2</th>\n",
       "      <td>BUILD A SOCIAL MEDIA PRESENCE FOR YOUR BUSINE...</td>\n",
       "      <td>4.7</td>\n",
       "    </tr>\n",
       "    <tr>\n",
       "      <th>3</th>\n",
       "      <td>BUILD SOCIAL AWARENESS CONTENT FOR TWITTER WI...</td>\n",
       "      <td>0.0</td>\n",
       "    </tr>\n",
       "    <tr>\n",
       "      <th>4</th>\n",
       "      <td>COMERCIO, INMIGRACIÓN Y TIPOS DE CAMBIO EN UN...</td>\n",
       "      <td>4.9</td>\n",
       "    </tr>\n",
       "    <tr>\n",
       "      <th>...</th>\n",
       "      <td>...</td>\n",
       "      <td>...</td>\n",
       "    </tr>\n",
       "    <tr>\n",
       "      <th>6387</th>\n",
       "      <td>현대 로봇공학, 강좌 2: 로봇 기구학</td>\n",
       "      <td>0.0</td>\n",
       "    </tr>\n",
       "    <tr>\n",
       "      <th>6388</th>\n",
       "      <td>현대 로봇공학, 강좌 3: 로봇 동역학</td>\n",
       "      <td>0.0</td>\n",
       "    </tr>\n",
       "    <tr>\n",
       "      <th>6389</th>\n",
       "      <td>현대 로봇공학, 강좌 4: 로봇 동작 계획 및 제어</td>\n",
       "      <td>0.0</td>\n",
       "    </tr>\n",
       "    <tr>\n",
       "      <th>6390</th>\n",
       "      <td>현대 로봇공학, 강좌 5:  로봇 매니퓰레이션 및 차륜형 이동 로봇</td>\n",
       "      <td>0.0</td>\n",
       "    </tr>\n",
       "    <tr>\n",
       "      <th>6391</th>\n",
       "      <td>현대 로봇공학, 강좌 6: 캡스톤 프로젝트, 모바일 매니퓰레이션</td>\n",
       "      <td>0.0</td>\n",
       "    </tr>\n",
       "  </tbody>\n",
       "</table>\n",
       "<p>6392 rows × 2 columns</p>\n",
       "</div>"
      ],
      "text/plain": [
       "                                                  Curso  \\\n",
       "0      ASSISTING PUBLIC SECTOR DECISION MAKERS WITH ...   \n",
       "1      ATENCIÓN PREHOSPITALARIA DEL ICTUS AGUDO Y SE...   \n",
       "2      BUILD A SOCIAL MEDIA PRESENCE FOR YOUR BUSINE...   \n",
       "3      BUILD SOCIAL AWARENESS CONTENT FOR TWITTER WI...   \n",
       "4      COMERCIO, INMIGRACIÓN Y TIPOS DE CAMBIO EN UN...   \n",
       "...                                                 ...   \n",
       "6387                              현대 로봇공학, 강좌 2: 로봇 기구학   \n",
       "6388                              현대 로봇공학, 강좌 3: 로봇 동역학   \n",
       "6389                       현대 로봇공학, 강좌 4: 로봇 동작 계획 및 제어   \n",
       "6390              현대 로봇공학, 강좌 5:  로봇 매니퓰레이션 및 차륜형 이동 로봇   \n",
       "6391                현대 로봇공학, 강좌 6: 캡스톤 프로젝트, 모바일 매니퓰레이션   \n",
       "\n",
       "      Promedio de calidicaciones  \n",
       "0                            4.8  \n",
       "1                            4.9  \n",
       "2                            4.7  \n",
       "3                            0.0  \n",
       "4                            4.9  \n",
       "...                          ...  \n",
       "6387                         0.0  \n",
       "6388                         0.0  \n",
       "6389                         0.0  \n",
       "6390                         0.0  \n",
       "6391                         0.0  \n",
       "\n",
       "[6392 rows x 2 columns]"
      ]
     },
     "execution_count": 15,
     "metadata": {},
     "output_type": "execute_result"
    }
   ],
   "source": [
    "# Agrupa los promedios de las calificaciones por curso\n",
    "promedio_calificaciones = data.groupby('Course Title')['Rating'].mean().reset_index()\n",
    "\n",
    "# Se cambian los nombres de las columnas\n",
    "promedio_calificaciones.columns = ['Curso', 'Promedio de calidicaciones']\n",
    "\n",
    "promedio_calificaciones"
   ]
  },
  {
   "cell_type": "markdown",
   "metadata": {},
   "source": [
    "#### Cálculo de los cursos con mayor rating y menor rating\n",
    "\n",
    "Cálculo de los cursos con mayor rating y menor rating en el conjunto de datos. Para ello, se ordenan los datos por la calificación y se seleccionan los cursos con la calificación más alta y más baja."
   ]
  },
  {
   "cell_type": "code",
   "execution_count": 16,
   "metadata": {},
   "outputs": [
    {
     "name": "stdout",
     "output_type": "stream",
     "text": [
      "Cursos con mayor rating\n"
     ]
    },
    {
     "data": {
      "text/html": [
       "<div>\n",
       "<style scoped>\n",
       "    .dataframe tbody tr th:only-of-type {\n",
       "        vertical-align: middle;\n",
       "    }\n",
       "\n",
       "    .dataframe tbody tr th {\n",
       "        vertical-align: top;\n",
       "    }\n",
       "\n",
       "    .dataframe thead th {\n",
       "        text-align: right;\n",
       "    }\n",
       "</style>\n",
       "<table border=\"1\" class=\"dataframe\">\n",
       "  <thead>\n",
       "    <tr style=\"text-align: right;\">\n",
       "      <th></th>\n",
       "      <th>Cursos con mayor rating</th>\n",
       "      <th>Rating</th>\n",
       "    </tr>\n",
       "  </thead>\n",
       "  <tbody>\n",
       "    <tr>\n",
       "      <th>166</th>\n",
       "      <td>SONGWRITING: WRITING THE MUSIC</td>\n",
       "      <td>5.0</td>\n",
       "    </tr>\n",
       "    <tr>\n",
       "      <th>356</th>\n",
       "      <td>WESTERN RELIGIONS &amp; ECOLOGY</td>\n",
       "      <td>5.0</td>\n",
       "    </tr>\n",
       "    <tr>\n",
       "      <th>362</th>\n",
       "      <td>EL HOLOCAUSTO: EL ABISMO DE LA HUMANIDAD</td>\n",
       "      <td>5.0</td>\n",
       "    </tr>\n",
       "    <tr>\n",
       "      <th>364</th>\n",
       "      <td>莊子─人情 (ZHUANGZI─BETWEEN PEOPLE)</td>\n",
       "      <td>5.0</td>\n",
       "    </tr>\n",
       "    <tr>\n",
       "      <th>376</th>\n",
       "      <td>EXPLORING BEETHOVEN’S PIANO SONATAS PART 2</td>\n",
       "      <td>5.0</td>\n",
       "    </tr>\n",
       "    <tr>\n",
       "      <th>...</th>\n",
       "      <td>...</td>\n",
       "      <td>...</td>\n",
       "    </tr>\n",
       "    <tr>\n",
       "      <th>8291</th>\n",
       "      <td>TECNOLOGÍAS PARA LA INNOVACIÓN EDUCATIVA</td>\n",
       "      <td>5.0</td>\n",
       "    </tr>\n",
       "    <tr>\n",
       "      <th>8381</th>\n",
       "      <td>ESCOLA 4.0 EDUCAÇÃO E CULTURA MAKER NO CONTEXT...</td>\n",
       "      <td>5.0</td>\n",
       "    </tr>\n",
       "    <tr>\n",
       "      <th>8537</th>\n",
       "      <td>ACTIVITY DESIGN WITH PHET SIMULATIONS FOR STEM...</td>\n",
       "      <td>5.0</td>\n",
       "    </tr>\n",
       "    <tr>\n",
       "      <th>8546</th>\n",
       "      <td>SISTEMAS DIFUSOS</td>\n",
       "      <td>5.0</td>\n",
       "    </tr>\n",
       "    <tr>\n",
       "      <th>8615</th>\n",
       "      <td>DISEÑO DE ACTIVIDADES CON PHET PARA LA EDUCACI...</td>\n",
       "      <td>5.0</td>\n",
       "    </tr>\n",
       "  </tbody>\n",
       "</table>\n",
       "<p>68 rows × 2 columns</p>\n",
       "</div>"
      ],
      "text/plain": [
       "                                Cursos con mayor rating  Rating\n",
       "166                      SONGWRITING: WRITING THE MUSIC     5.0\n",
       "356                         WESTERN RELIGIONS & ECOLOGY     5.0\n",
       "362            EL HOLOCAUSTO: EL ABISMO DE LA HUMANIDAD     5.0\n",
       "364                     莊子─人情 (ZHUANGZI─BETWEEN PEOPLE)     5.0\n",
       "376          EXPLORING BEETHOVEN’S PIANO SONATAS PART 2     5.0\n",
       "...                                                 ...     ...\n",
       "8291           TECNOLOGÍAS PARA LA INNOVACIÓN EDUCATIVA     5.0\n",
       "8381  ESCOLA 4.0 EDUCAÇÃO E CULTURA MAKER NO CONTEXT...     5.0\n",
       "8537  ACTIVITY DESIGN WITH PHET SIMULATIONS FOR STEM...     5.0\n",
       "8546                                   SISTEMAS DIFUSOS     5.0\n",
       "8615  DISEÑO DE ACTIVIDADES CON PHET PARA LA EDUCACI...     5.0\n",
       "\n",
       "[68 rows x 2 columns]"
      ]
     },
     "execution_count": 16,
     "metadata": {},
     "output_type": "execute_result"
    }
   ],
   "source": [
    "import pandas as pd\n",
    "\n",
    "# Obtiene los cursos con mayor rating\n",
    "cursos_rating_5 = data.loc[data['Rating'] == 5.0, ['Course Title', 'Rating']]\n",
    "# Obtiene los cursos con menor rating\n",
    "cursos_rating_0 = data.loc[data['Rating'] == 0.0, ['Course Title', 'Rating']]\n",
    "\n",
    "# Muestra los cursos con mayor rating\n",
    "print(\"Cursos con mayor rating\")\n",
    "cursos_rating_5.columns = ['Cursos con mayor rating', 'Rating']\n",
    "cursos_rating_5"
   ]
  },
  {
   "cell_type": "code",
   "execution_count": 17,
   "metadata": {},
   "outputs": [
    {
     "name": "stdout",
     "output_type": "stream",
     "text": [
      "\n",
      "Cursos con menor rating\n"
     ]
    },
    {
     "data": {
      "text/html": [
       "<div>\n",
       "<style scoped>\n",
       "    .dataframe tbody tr th:only-of-type {\n",
       "        vertical-align: middle;\n",
       "    }\n",
       "\n",
       "    .dataframe tbody tr th {\n",
       "        vertical-align: top;\n",
       "    }\n",
       "\n",
       "    .dataframe thead th {\n",
       "        text-align: right;\n",
       "    }\n",
       "</style>\n",
       "<table border=\"1\" class=\"dataframe\">\n",
       "  <thead>\n",
       "    <tr style=\"text-align: right;\">\n",
       "      <th></th>\n",
       "      <th>Cursos con menor rating</th>\n",
       "      <th>Rating</th>\n",
       "    </tr>\n",
       "  </thead>\n",
       "  <tbody>\n",
       "    <tr>\n",
       "      <th>3</th>\n",
       "      <td>DISTRIBUCIÓN DIGITAL DE LA MÚSICA INDEPENDIENTE</td>\n",
       "      <td>0.0</td>\n",
       "    </tr>\n",
       "    <tr>\n",
       "      <th>7</th>\n",
       "      <td>СТАНОВЛЕННЯ СУЧАСНОЇ УКРАЇНИ</td>\n",
       "      <td>0.0</td>\n",
       "    </tr>\n",
       "    <tr>\n",
       "      <th>16</th>\n",
       "      <td>CREATE YOUR UX PORTFOLIO WITH ADOBE PORTFOLIO</td>\n",
       "      <td>0.0</td>\n",
       "    </tr>\n",
       "    <tr>\n",
       "      <th>20</th>\n",
       "      <td>CULTURA MAYA EN YUCATÁN</td>\n",
       "      <td>0.0</td>\n",
       "    </tr>\n",
       "    <tr>\n",
       "      <th>22</th>\n",
       "      <td>HERENCIA NEGRA, APLICACIÓN DE RITMOS AFROPERUANOS</td>\n",
       "      <td>0.0</td>\n",
       "    </tr>\n",
       "    <tr>\n",
       "      <th>...</th>\n",
       "      <td>...</td>\n",
       "      <td>...</td>\n",
       "    </tr>\n",
       "    <tr>\n",
       "      <th>8689</th>\n",
       "      <td>L’ENGAGEMENT EFFICACE DE LA SOCIÉTÉ CIVILE DAN...</td>\n",
       "      <td>0.0</td>\n",
       "    </tr>\n",
       "    <tr>\n",
       "      <th>8691</th>\n",
       "      <td>COMPUTATIONAL THINKING FOR K-12 EDUCATORS: NES...</td>\n",
       "      <td>0.0</td>\n",
       "    </tr>\n",
       "    <tr>\n",
       "      <th>8692</th>\n",
       "      <td>CÓMO COMBINAR Y ANALIZAR DATOS COMPLEJOS</td>\n",
       "      <td>0.0</td>\n",
       "    </tr>\n",
       "    <tr>\n",
       "      <th>8693</th>\n",
       "      <td>ARCHITECTING WITH GOOGLE KUBERNETES ENGINE: WO...</td>\n",
       "      <td>0.0</td>\n",
       "    </tr>\n",
       "    <tr>\n",
       "      <th>8694</th>\n",
       "      <td>VISUALIZING STATIC NETWORKS WITH R</td>\n",
       "      <td>0.0</td>\n",
       "    </tr>\n",
       "  </tbody>\n",
       "</table>\n",
       "<p>1349 rows × 2 columns</p>\n",
       "</div>"
      ],
      "text/plain": [
       "                                Cursos con menor rating  Rating\n",
       "3       DISTRIBUCIÓN DIGITAL DE LA MÚSICA INDEPENDIENTE     0.0\n",
       "7                          СТАНОВЛЕННЯ СУЧАСНОЇ УКРАЇНИ     0.0\n",
       "16        CREATE YOUR UX PORTFOLIO WITH ADOBE PORTFOLIO     0.0\n",
       "20                              CULTURA MAYA EN YUCATÁN     0.0\n",
       "22    HERENCIA NEGRA, APLICACIÓN DE RITMOS AFROPERUANOS     0.0\n",
       "...                                                 ...     ...\n",
       "8689  L’ENGAGEMENT EFFICACE DE LA SOCIÉTÉ CIVILE DAN...     0.0\n",
       "8691  COMPUTATIONAL THINKING FOR K-12 EDUCATORS: NES...     0.0\n",
       "8692           CÓMO COMBINAR Y ANALIZAR DATOS COMPLEJOS     0.0\n",
       "8693  ARCHITECTING WITH GOOGLE KUBERNETES ENGINE: WO...     0.0\n",
       "8694                 VISUALIZING STATIC NETWORKS WITH R     0.0\n",
       "\n",
       "[1349 rows x 2 columns]"
      ]
     },
     "execution_count": 17,
     "metadata": {},
     "output_type": "execute_result"
    }
   ],
   "source": [
    "# Muestra los cursos con menor rating\n",
    "print(\"\\nCursos con menor rating\")\n",
    "cursos_rating_0.columns = ['Cursos con menor rating', 'Rating']\n",
    "cursos_rating_0"
   ]
  },
  {
   "cell_type": "markdown",
   "metadata": {},
   "source": [
    "#### Cálculo del porcentaje de horarios flexibles en relación con el total de cursos\n",
    "\n",
    "Calculó del porcentaje de cursos con horario flexible en relación con el total de cursos en el conjunto de datos. Para ello, se necesita filtrar los datos para seleccionar solo los cursos con horario flexible, luego calcular el porcentaje de estos cursos respecto al total de cursos en el conjunto de datos original y lo redondeen a dos decimales."
   ]
  },
  {
   "cell_type": "code",
   "execution_count": 18,
   "metadata": {},
   "outputs": [
    {
     "data": {
      "text/plain": [
       "92.63"
      ]
     },
     "execution_count": 18,
     "metadata": {},
     "output_type": "execute_result"
    }
   ],
   "source": [
    "# Filtro de los cursos que cumplan un Schedule que sea 'FLEXIBLE SCHEUDLE'\n",
    "cursos_flexible_schedule = data.loc[data['Schedule'] == 'FLEXIBLE SCHEDULE', ['Course Title', 'Schedule']]\n",
    "\n",
    "# Obtiene la cantidad de cursos flexibles y la cantidad total de cursos\n",
    "cantidad_cursos_flexible = len(cursos_flexible_schedule)\n",
    "cantidad_total_cursos = len(data)\n",
    "\n",
    "# Calcula el porcentaje de cursos flexibles\n",
    "porcentaje_cursos_flexible = (cantidad_cursos_flexible / cantidad_total_cursos) * 100\n",
    "\n",
    "# Redondea el porcentaje a dos decimales\n",
    "porcentaje_cursos_flexible = round(porcentaje_cursos_flexible, 2)\n",
    "\n",
    "porcentaje_cursos_flexible"
   ]
  },
  {
   "cell_type": "markdown",
   "metadata": {},
   "source": [
    "## Parte 4\n",
    "### Gráficos\n",
    "\n",
    "Se procede a realizar los gráficos solicitados en la práctica."
   ]
  },
  {
   "cell_type": "markdown",
   "metadata": {},
   "source": [
    "#### **GRÁFICO 1**: Gráfica de barras que muestre el número de cursos en cada nivel de dificultad."
   ]
  },
  {
   "cell_type": "code",
   "execution_count": 19,
   "metadata": {},
   "outputs": [
    {
     "data": {
      "image/png": "[encoded data removed]",
      "text/plain": [
       "<Figure size 640x480 with 1 Axes>"
      ]
     },
     "metadata": {},
     "output_type": "display_data"
    }
   ],
   "source": [
    "#importamos numpy para poder hacer los graficos\t\n",
    "import numpy as np\n",
    "# Se importa matplotlib para poder hacer los graficos\n",
    "import matplotlib.pyplot as plt\n",
    "# Se obtiene la cantidad de cursos por nivel\n",
    "cantidad_cursos_por_nivel = data['Level'].value_counts()\n",
    "\n",
    "# Se obtiene los niveles\n",
    "niveles = cantidad_cursos_por_nivel.index\n",
    "\n",
    "# Se obtiene la cantidad de cursos\n",
    "cantidad_cursos = cantidad_cursos_por_nivel.values\n",
    "\n",
    "# Se obtiene el indice de los niveles\n",
    "indice = np.arange(len(niveles))\n",
    "\n",
    "# Se definen colores para cada nivel\n",
    "colores = ['blue', 'green', 'red']\n",
    "\n",
    "# Se crea el grafico con barras y se asigna un color a cada barra\n",
    "plt.bar(indice, cantidad_cursos, color=colores)\n",
    "\n",
    "# Se ajustan las etiquetas del eje x para mostrar los niveles\n",
    "plt.xticks(indice, niveles, rotation=0)\n",
    "\n",
    "# Agrega las cantidades encima de las barras\n",
    "for i, cantidad in enumerate(cantidad_cursos):\n",
    "    plt.text(i, cantidad + 0.1, str(cantidad), ha='center', va='bottom')\n",
    "\n",
    "#Agregando propiedades a la gráfica\n",
    "plt.title('Cantidad de cursos por nivel')\n",
    "plt.xlabel('Nivel')\n",
    "plt.ylabel('Cantidad de cursos')\n",
    "\n",
    "# Se muestra la gráfica\n",
    "plt.show()\n"
   ]
  },
  {
   "cell_type": "markdown",
   "metadata": {},
   "source": [
    "#### **GRÁFICO 2**: Gráfica de barras horizontal del número de cursos en las principales categorías."
   ]
  },
  {
   "cell_type": "code",
   "execution_count": 20,
   "metadata": {},
   "outputs": [
    {
     "data": {
      "image/png": "[encoded data removed]",
      "text/plain": [
       "<Figure size 640x480 with 1 Axes>"
      ]
     },
     "metadata": {},
     "output_type": "display_data"
    }
   ],
   "source": [
    "# Se obtiene la cantidad de cursos por categoría\n",
    "categorias = data['Keyword'].value_counts().index\n",
    "num_cursos_categoria = data['Keyword'].value_counts()\n",
    "\n",
    "# color de las barras\n",
    "colores = ['red', 'blue', 'green', 'purple', 'orange', 'pink', 'yellow', 'gray', 'brown', 'black']\n",
    "\n",
    "# Se crea la gráfica de barras horizontal\n",
    "plt.barh(categorias, num_cursos_categoria, color=colores)\n",
    "\n",
    "# Agrega el texto con la cantidad de cursos al lado de cada barra\n",
    "for i, num_cursos in enumerate(num_cursos_categoria):\n",
    "    plt.text(num_cursos, i, str(num_cursos), ha='left', va='center')\n",
    "\n",
    "# Propiedades de la gráfica\n",
    "plt.title('Cantidad de cursos por categoría')\n",
    "plt.xlabel('Cantidad de cursos')\n",
    "plt.ylabel('Categoría')\n",
    "\n",
    "# Se muestra la gráfica\n",
    "plt.show()"
   ]
  },
  {
   "cell_type": "markdown",
   "metadata": {},
   "source": [
    "#### **GRÁFICO 3**: Grafico de dispersión de la relación entre la duración el curso y el número de revisiones."
   ]
  },
  {
   "cell_type": "code",
   "execution_count": 21,
   "metadata": {},
   "outputs": [
    {
     "data": {
      "image/png": "[encoded data removed]",
      "text/plain": [
       "<Figure size 640x480 with 1 Axes>"
      ]
     },
     "metadata": {},
     "output_type": "display_data"
    }
   ],
   "source": [
    "# Se obtiene las cantidades\n",
    "duracion = data['Duration']\n",
    "revisiones = data['Review']\n",
    "\n",
    "# Calcula la pendiente y la intersección de la línea de tendencia (regresión lineal)\n",
    "pendiente, interseccion = np.polyfit(duracion, revisiones, 1)\n",
    "\n",
    "# Calcula los valores de la línea de tendencia\n",
    "x_vals = np.array([min(duracion), max(duracion)])\n",
    "y_vals = pendiente * x_vals + interseccion\n",
    "\n",
    "# Calcula el coeficiente de correlación\n",
    "coef_corr = np.corrcoef(duracion, revisiones)[0, 1]\n",
    "\n",
    "# Crea el gráfico de dispersión\n",
    "plt.scatter(duracion, revisiones, color='blue', alpha=0.5)\n",
    "\n",
    "# Agrega la línea de tendencia\n",
    "plt.plot(x_vals, y_vals, color='red')\n",
    "\n",
    "# Propiedades del gráfico\n",
    "plt.title('Relación entre Duración del Curso y Número de Revisiones')\n",
    "plt.xlabel('Duración del Curso')\n",
    "plt.ylabel('Número de Revisiones')\n",
    "\n",
    "# Agregando cuadrícula\n",
    "plt.grid(True)\n",
    "\n",
    "# Muestra el gráfico\n",
    "plt.show()"
   ]
  },
  {
   "cell_type": "markdown",
   "metadata": {},
   "source": [
    "#### **GRÁFICO 4**: Histograma de la distribución de las duraciones de los cursos."
   ]
  },
  {
   "cell_type": "code",
   "execution_count": 22,
   "metadata": {},
   "outputs": [
    {
     "data": {
      "image/png": "[encoded data removed]",
      "text/plain": [
       "<Figure size 640x480 with 1 Axes>"
      ]
     },
     "metadata": {},
     "output_type": "display_data"
    }
   ],
   "source": [
    "# Se obtienen los datos\n",
    "duracion = data['Duration']\n",
    "\n",
    "# Crea el histograma\n",
    "frecuencia, bins, _ = plt.hist(duracion, color='blue', edgecolor='black')\n",
    "plt.hist(duracion, color='blue',edgecolor='black')\n",
    "\n",
    "# Propiedades del gráfico\n",
    "plt.title('Histograma de la distribución de la Duración de los Cursos')\n",
    "plt.xlabel('Duración del Curso (horas)')\n",
    "plt.ylabel('Frecuencia')\n",
    "\n",
    "for i in range(len(frecuencia)):\n",
    "    x_pos = (bins[i] + bins[i+1]) / 2\n",
    "    plt.text(x_pos, frecuencia[i], str(int(frecuencia[i])), ha='center', va='bottom', fontsize=10)\n",
    "\n",
    "# Muestra el gráfico\n",
    "plt.show()"
   ]
  },
  {
   "cell_type": "markdown",
   "metadata": {},
   "source": [
    "#### **GRÁFICO 5**: Gráfico de cajas para visualizar la distribución de las calificaciones de los cursos por nivel de dificultad."
   ]
  },
  {
   "cell_type": "code",
   "execution_count": 23,
   "metadata": {},
   "outputs": [
    {
     "data": {
      "image/png": "[encoded data removed]",
      "text/plain": [
       "<Figure size 640x480 with 1 Axes>"
      ]
     },
     "metadata": {},
     "output_type": "display_data"
    }
   ],
   "source": [
    "\n",
    "# Agrupa los datos por nivel de dificultad\n",
    "grouped_data = data.groupby('Level')['Rating'].apply(list)\n",
    "\n",
    "# Crea el gráfico de cajas\n",
    "plt.boxplot(grouped_data.values, labels=grouped_data.index, patch_artist=True)\n",
    "\n",
    "# Propiedades del gráfico\n",
    "plt.title('Gráfico de cajas de la distribución de las calificaciones de los cursos por Nivel de dificultad')\n",
    "plt.xlabel('Nivel de dificultad')\n",
    "plt.ylabel('Número de Revisiones')\n",
    "\n",
    "# Muestra el gráfico\n",
    "plt.tight_layout()\n",
    "plt.show()"
   ]
  }
 ],
 "metadata": {
  "kernelspec": {
   "display_name": "Python 3",
   "language": "python",
   "name": "python3"
  },
  "language_info": {
   "codemirror_mode": {
    "name": "ipython",
    "version": 3
   },
   "file_extension": ".py",
   "mimetype": "text/x-python",
   "name": "python",
   "nbconvert_exporter": "python",
   "pygments_lexer": "ipython3",
   "version": "3.12.1"
  }
 },
 "nbformat": 4,
 "nbformat_minor": 2
}
